{
 "cells": [
  {
   "cell_type": "code",
   "execution_count": 1,
   "id": "ab1d2aa5-00e7-49f9-8927-3597df9ad02b",
   "metadata": {
    "id": "ab1d2aa5-00e7-49f9-8927-3597df9ad02b"
   },
   "outputs": [],
   "source": [
    "import pandas as pd\n",
    "import numpy as np\n",
    "import re\n",
    "import pickle\n",
    "from collections import Counter\n",
    "from underthesea import word_tokenize\n",
    "from sklearn.utils import shuffle\n",
    "from sklearn.feature_extraction.text import TfidfVectorizer, CountVectorizer, TfidfTransformer\n",
    "from sklearn.model_selection import train_test_split\n",
    "from imblearn.over_sampling import RandomOverSampler\n",
    "from sklearn.linear_model import LogisticRegression\n",
    "from sklearn.metrics import classification_report, confusion_matrix\n",
    "from sklearn.pipeline import Pipeline\n",
    "from sklearn.ensemble import AdaBoostClassifier\n",
    "from sklearn.ensemble import RandomForestClassifier\n",
    "from sklearn.naive_bayes import MultinomialNB\n",
    "from sklearn.tree import DecisionTreeClassifier\n",
    "from sklearn.model_selection import GridSearchCV\n",
    "from sklearn.svm import SVC\n",
    "from datetime import datetime\n",
    "import warnings\n",
    "\n",
    "warnings.filterwarnings('ignore')"
   ]
  },
  {
   "cell_type": "code",
   "execution_count": 2,
   "id": "f80b3d82-23a4-4348-9465-8e7d21fce435",
   "metadata": {
    "id": "f80b3d82-23a4-4348-9465-8e7d21fce435",
    "outputId": "6dad8c30-b376-42bc-a39e-884b542bc9a8"
   },
   "outputs": [
    {
     "data": {
      "text/html": [
       "<div>\n",
       "<style scoped>\n",
       "    .dataframe tbody tr th:only-of-type {\n",
       "        vertical-align: middle;\n",
       "    }\n",
       "\n",
       "    .dataframe tbody tr th {\n",
       "        vertical-align: top;\n",
       "    }\n",
       "\n",
       "    .dataframe thead th {\n",
       "        text-align: right;\n",
       "    }\n",
       "</style>\n",
       "<table border=\"1\" class=\"dataframe\">\n",
       "  <thead>\n",
       "    <tr style=\"text-align: right;\">\n",
       "      <th></th>\n",
       "      <th>comment</th>\n",
       "      <th>comment_pre</th>\n",
       "      <th>target</th>\n",
       "    </tr>\n",
       "  </thead>\n",
       "  <tbody>\n",
       "    <tr>\n",
       "      <th>0</th>\n",
       "      <td>chưa ktra nên chưa biết đc đứa nào cũng đc như...</td>\n",
       "      <td>kiểm</td>\n",
       "      <td>2</td>\n",
       "    </tr>\n",
       "    <tr>\n",
       "      <th>1</th>\n",
       "      <td>Lời đầu tiên cho phép được xin vì sự sơ suất c...</td>\n",
       "      <td>cho_phép sơ_suất hát rõ_ràng</td>\n",
       "      <td>2</td>\n",
       "    </tr>\n",
       "    <tr>\n",
       "      <th>2</th>\n",
       "      <td>1m6 50kg size M khá vừa vặn nhưng hok có cơ nê...</td>\n",
       "      <td>vừa_vặn đỏ đỏ cổ đẹp nhức đẹp ổn</td>\n",
       "      <td>2</td>\n",
       "    </tr>\n",
       "    <tr>\n",
       "      <th>3</th>\n",
       "      <td>Lần đầu mua shop, vải cũg khá ok. hợp vs mùa h...</td>\n",
       "      <td>đầu_shop hợp</td>\n",
       "      <td>2</td>\n",
       "    </tr>\n",
       "    <tr>\n",
       "      <th>4</th>\n",
       "      <td>áo đẹp form đẹp, mọi thứ đều ok, giao hàng nha...</td>\n",
       "      <td>đẹp form đẹp hàng thích</td>\n",
       "      <td>2</td>\n",
       "    </tr>\n",
       "  </tbody>\n",
       "</table>\n",
       "</div>"
      ],
      "text/plain": [
       "                                             comment  \\\n",
       "0  chưa ktra nên chưa biết đc đứa nào cũng đc như...   \n",
       "1  Lời đầu tiên cho phép được xin vì sự sơ suất c...   \n",
       "2  1m6 50kg size M khá vừa vặn nhưng hok có cơ nê...   \n",
       "3  Lần đầu mua shop, vải cũg khá ok. hợp vs mùa h...   \n",
       "4  áo đẹp form đẹp, mọi thứ đều ok, giao hàng nha...   \n",
       "\n",
       "                        comment_pre  target  \n",
       "0                              kiểm       2  \n",
       "1      cho_phép sơ_suất hát rõ_ràng       2  \n",
       "2  vừa_vặn đỏ đỏ cổ đẹp nhức đẹp ổn       2  \n",
       "3                      đầu_shop hợp       2  \n",
       "4           đẹp form đẹp hàng thích       2  "
      ]
     },
     "execution_count": 2,
     "metadata": {},
     "output_type": "execute_result"
    }
   ],
   "source": [
    "data = pd.read_csv('Data_pre.csv', index_col=[0])\n",
    "data.head()"
   ]
  },
  {
   "cell_type": "code",
   "execution_count": 3,
   "id": "70cd4111-9147-4712-b5bc-d58bf61575c8",
   "metadata": {
    "id": "70cd4111-9147-4712-b5bc-d58bf61575c8"
   },
   "outputs": [],
   "source": [
    "# Drop NaN values\n",
    "data = data.dropna().reset_index(drop=True)"
   ]
  },
  {
   "cell_type": "code",
   "execution_count": 4,
   "id": "a352832c-1221-452b-989e-954972ab3c8d",
   "metadata": {
    "id": "a352832c-1221-452b-989e-954972ab3c8d",
    "outputId": "31004180-27f4-4288-a399-3ee551e0851b"
   },
   "outputs": [
    {
     "data": {
      "text/plain": [
       "(445354, 3)"
      ]
     },
     "execution_count": 4,
     "metadata": {},
     "output_type": "execute_result"
    }
   ],
   "source": [
    "data.shape"
   ]
  },
  {
   "cell_type": "markdown",
   "id": "08273212-dbb0-4309-9951-8b1cba5c0e51",
   "metadata": {
    "id": "08273212-dbb0-4309-9951-8b1cba5c0e51"
   },
   "source": [
    "### TF-IDF"
   ]
  },
  {
   "cell_type": "code",
   "execution_count": 5,
   "id": "ba66a0f3-80f9-43e2-a675-e3bbfb426bf8",
   "metadata": {
    "id": "ba66a0f3-80f9-43e2-a675-e3bbfb426bf8",
    "outputId": "61ef950c-c9d6-4e6c-8756-0dd2c34e6133"
   },
   "outputs": [
    {
     "data": {
      "text/html": [
       "<style>#sk-container-id-1 {color: black;background-color: white;}#sk-container-id-1 pre{padding: 0;}#sk-container-id-1 div.sk-toggleable {background-color: white;}#sk-container-id-1 label.sk-toggleable__label {cursor: pointer;display: block;width: 100%;margin-bottom: 0;padding: 0.3em;box-sizing: border-box;text-align: center;}#sk-container-id-1 label.sk-toggleable__label-arrow:before {content: \"▸\";float: left;margin-right: 0.25em;color: #696969;}#sk-container-id-1 label.sk-toggleable__label-arrow:hover:before {color: black;}#sk-container-id-1 div.sk-estimator:hover label.sk-toggleable__label-arrow:before {color: black;}#sk-container-id-1 div.sk-toggleable__content {max-height: 0;max-width: 0;overflow: hidden;text-align: left;background-color: #f0f8ff;}#sk-container-id-1 div.sk-toggleable__content pre {margin: 0.2em;color: black;border-radius: 0.25em;background-color: #f0f8ff;}#sk-container-id-1 input.sk-toggleable__control:checked~div.sk-toggleable__content {max-height: 200px;max-width: 100%;overflow: auto;}#sk-container-id-1 input.sk-toggleable__control:checked~label.sk-toggleable__label-arrow:before {content: \"▾\";}#sk-container-id-1 div.sk-estimator input.sk-toggleable__control:checked~label.sk-toggleable__label {background-color: #d4ebff;}#sk-container-id-1 div.sk-label input.sk-toggleable__control:checked~label.sk-toggleable__label {background-color: #d4ebff;}#sk-container-id-1 input.sk-hidden--visually {border: 0;clip: rect(1px 1px 1px 1px);clip: rect(1px, 1px, 1px, 1px);height: 1px;margin: -1px;overflow: hidden;padding: 0;position: absolute;width: 1px;}#sk-container-id-1 div.sk-estimator {font-family: monospace;background-color: #f0f8ff;border: 1px dotted black;border-radius: 0.25em;box-sizing: border-box;margin-bottom: 0.5em;}#sk-container-id-1 div.sk-estimator:hover {background-color: #d4ebff;}#sk-container-id-1 div.sk-parallel-item::after {content: \"\";width: 100%;border-bottom: 1px solid gray;flex-grow: 1;}#sk-container-id-1 div.sk-label:hover label.sk-toggleable__label {background-color: #d4ebff;}#sk-container-id-1 div.sk-serial::before {content: \"\";position: absolute;border-left: 1px solid gray;box-sizing: border-box;top: 0;bottom: 0;left: 50%;z-index: 0;}#sk-container-id-1 div.sk-serial {display: flex;flex-direction: column;align-items: center;background-color: white;padding-right: 0.2em;padding-left: 0.2em;position: relative;}#sk-container-id-1 div.sk-item {position: relative;z-index: 1;}#sk-container-id-1 div.sk-parallel {display: flex;align-items: stretch;justify-content: center;background-color: white;position: relative;}#sk-container-id-1 div.sk-item::before, #sk-container-id-1 div.sk-parallel-item::before {content: \"\";position: absolute;border-left: 1px solid gray;box-sizing: border-box;top: 0;bottom: 0;left: 50%;z-index: -1;}#sk-container-id-1 div.sk-parallel-item {display: flex;flex-direction: column;z-index: 1;position: relative;background-color: white;}#sk-container-id-1 div.sk-parallel-item:first-child::after {align-self: flex-end;width: 50%;}#sk-container-id-1 div.sk-parallel-item:last-child::after {align-self: flex-start;width: 50%;}#sk-container-id-1 div.sk-parallel-item:only-child::after {width: 0;}#sk-container-id-1 div.sk-dashed-wrapped {border: 1px dashed gray;margin: 0 0.4em 0.5em 0.4em;box-sizing: border-box;padding-bottom: 0.4em;background-color: white;}#sk-container-id-1 div.sk-label label {font-family: monospace;font-weight: bold;display: inline-block;line-height: 1.2em;}#sk-container-id-1 div.sk-label-container {text-align: center;}#sk-container-id-1 div.sk-container {/* jupyter's `normalize.less` sets `[hidden] { display: none; }` but bootstrap.min.css set `[hidden] { display: none !important; }` so we also need the `!important` here to be able to override the default hidden behavior on the sphinx rendered scikit-learn.org. See: https://github.com/scikit-learn/scikit-learn/issues/21755 */display: inline-block !important;position: relative;}#sk-container-id-1 div.sk-text-repr-fallback {display: none;}</style><div id=\"sk-container-id-1\" class=\"sk-top-container\"><div class=\"sk-text-repr-fallback\"><pre>TfidfVectorizer(ngram_range=(1, 4))</pre><b>In a Jupyter environment, please rerun this cell to show the HTML representation or trust the notebook. <br />On GitHub, the HTML representation is unable to render, please try loading this page with nbviewer.org.</b></div><div class=\"sk-container\" hidden><div class=\"sk-item\"><div class=\"sk-estimator sk-toggleable\"><input class=\"sk-toggleable__control sk-hidden--visually\" id=\"sk-estimator-id-1\" type=\"checkbox\" checked><label for=\"sk-estimator-id-1\" class=\"sk-toggleable__label sk-toggleable__label-arrow\">TfidfVectorizer</label><div class=\"sk-toggleable__content\"><pre>TfidfVectorizer(ngram_range=(1, 4))</pre></div></div></div></div></div>"
      ],
      "text/plain": [
       "TfidfVectorizer(ngram_range=(1, 4))"
      ]
     },
     "execution_count": 5,
     "metadata": {},
     "output_type": "execute_result"
    }
   ],
   "source": [
    "tf_idf = TfidfVectorizer(ngram_range=(1, 4))\n",
    "tf_idf.fit(data['comment_pre'])"
   ]
  },
  {
   "cell_type": "markdown",
   "id": "f02a3337-fc32-4dd3-be3a-136b98139f72",
   "metadata": {
    "id": "f02a3337-fc32-4dd3-be3a-136b98139f72"
   },
   "source": [
    "### Creating input X and output y"
   ]
  },
  {
   "cell_type": "code",
   "execution_count": 6,
   "id": "49ce5ce9-53bf-44bb-ab9d-0bf396c653e3",
   "metadata": {
    "id": "49ce5ce9-53bf-44bb-ab9d-0bf396c653e3"
   },
   "outputs": [],
   "source": [
    "X = tf_idf.transform(data['comment_pre'])\n",
    "y = data['target']"
   ]
  },
  {
   "cell_type": "markdown",
   "id": "9cf6b855-3bba-4b04-bb84-b15a3f5413e5",
   "metadata": {
    "id": "9cf6b855-3bba-4b04-bb84-b15a3f5413e5"
   },
   "source": [
    "### Train test split"
   ]
  },
  {
   "cell_type": "code",
   "execution_count": 7,
   "id": "1cb8cb7f-5345-4c3b-8774-054e1f8cf58b",
   "metadata": {
    "id": "1cb8cb7f-5345-4c3b-8774-054e1f8cf58b"
   },
   "outputs": [],
   "source": [
    "X_train, X_test, y_train, y_test = train_test_split(X, y, test_size=0.2)"
   ]
  },
  {
   "cell_type": "markdown",
   "id": "5eece0e4-2da9-4ae0-8fbb-30ce0eae828b",
   "metadata": {
    "id": "5eece0e4-2da9-4ae0-8fbb-30ce0eae828b"
   },
   "source": [
    "### Build model with Logistic Regression"
   ]
  },
  {
   "cell_type": "code",
   "execution_count": 8,
   "id": "0969223e-1188-48e6-9412-ffec053c8e96",
   "metadata": {},
   "outputs": [],
   "source": [
    "start = datetime.now()"
   ]
  },
  {
   "cell_type": "code",
   "execution_count": 9,
   "id": "67e0a8e3-272c-4fdc-942c-fdda3237bfd0",
   "metadata": {
    "id": "67e0a8e3-272c-4fdc-942c-fdda3237bfd0"
   },
   "outputs": [],
   "source": [
    "model = LogisticRegression().fit(X_train, y_train)"
   ]
  },
  {
   "cell_type": "code",
   "execution_count": 10,
   "id": "b3d2b1d7-dc33-43a5-b777-0682fa6ec2d7",
   "metadata": {},
   "outputs": [
    {
     "name": "stdout",
     "output_type": "stream",
     "text": [
      "Time:  0:00:57.151198\n"
     ]
    }
   ],
   "source": [
    "end = datetime.now()\n",
    "time_taken = end - start\n",
    "print('Time: ', time_taken) "
   ]
  },
  {
   "cell_type": "code",
   "execution_count": 11,
   "id": "adb4c81a-f37f-40aa-8633-1d6124f63ec0",
   "metadata": {
    "id": "adb4c81a-f37f-40aa-8633-1d6124f63ec0"
   },
   "outputs": [],
   "source": [
    "y_hat = model.predict(X_test)"
   ]
  },
  {
   "cell_type": "code",
   "execution_count": 12,
   "id": "509c92f5-0a68-43ba-8bd1-ab37ff75e043",
   "metadata": {
    "id": "509c92f5-0a68-43ba-8bd1-ab37ff75e043",
    "outputId": "438b2bf8-2cfb-4fd3-e9f3-415921bc594d"
   },
   "outputs": [
    {
     "name": "stdout",
     "output_type": "stream",
     "text": [
      "              precision    recall  f1-score   support\n",
      "\n",
      "           0       0.73      0.59      0.65      7641\n",
      "           1       0.77      0.27      0.40      5802\n",
      "           2       0.92      0.98      0.95     75628\n",
      "\n",
      "    accuracy                           0.90     89071\n",
      "   macro avg       0.81      0.62      0.67     89071\n",
      "weighted avg       0.89      0.90      0.89     89071\n",
      "\n"
     ]
    }
   ],
   "source": [
    "print(classification_report(y_test, y_hat))"
   ]
  },
  {
   "cell_type": "code",
   "execution_count": 13,
   "id": "b6be0310-11fd-45cb-a3a7-d84e04313467",
   "metadata": {
    "id": "b6be0310-11fd-45cb-a3a7-d84e04313467",
    "outputId": "617eeab8-ee46-48d8-a46b-4db28f89f6a7"
   },
   "outputs": [
    {
     "data": {
      "text/plain": [
       "0.9166280737503614"
      ]
     },
     "execution_count": 13,
     "metadata": {},
     "output_type": "execute_result"
    }
   ],
   "source": [
    "model.score(X_train, y_train)"
   ]
  },
  {
   "cell_type": "code",
   "execution_count": 14,
   "id": "32d7ab88-e211-41d4-a777-b5cea53e0fa0",
   "metadata": {
    "id": "32d7ab88-e211-41d4-a777-b5cea53e0fa0",
    "outputId": "214264bd-0425-47f5-c056-254683c525dc"
   },
   "outputs": [
    {
     "data": {
      "text/plain": [
       "0.9036386702742756"
      ]
     },
     "execution_count": 14,
     "metadata": {},
     "output_type": "execute_result"
    }
   ],
   "source": [
    "model.score(X_test, y_test)"
   ]
  },
  {
   "cell_type": "code",
   "execution_count": 15,
   "id": "04b4bd00-80b1-4804-94ff-35c1e1e2bf4a",
   "metadata": {
    "id": "04b4bd00-80b1-4804-94ff-35c1e1e2bf4a",
    "outputId": "be8fa1ad-c626-4820-e548-7d1be7536c5c"
   },
   "outputs": [
    {
     "data": {
      "text/plain": [
       "array([[ 4533,   128,  2980],\n",
       "       [  819,  1569,  3414],\n",
       "       [  900,   342, 74386]], dtype=int64)"
      ]
     },
     "execution_count": 15,
     "metadata": {},
     "output_type": "execute_result"
    }
   ],
   "source": [
    "confusion_matrix(y_test, y_hat)"
   ]
  },
  {
   "cell_type": "markdown",
   "id": "168774e8-1cc5-40ee-852f-e638ff028ea7",
   "metadata": {
    "id": "168774e8-1cc5-40ee-852f-e638ff028ea7"
   },
   "source": [
    "- Logistic Regression with original data has 90% accuracy\n",
    "- Recall and f1 score are low"
   ]
  },
  {
   "cell_type": "markdown",
   "id": "4893d1ac-6a13-46c7-9aab-8847870448eb",
   "metadata": {
    "id": "4893d1ac-6a13-46c7-9aab-8847870448eb"
   },
   "source": [
    "### Build model with Naive Bayes"
   ]
  },
  {
   "cell_type": "code",
   "execution_count": 16,
   "id": "b84a65c2-5617-4b42-a69b-abd0d63485a2",
   "metadata": {},
   "outputs": [],
   "source": [
    "start = datetime.now()"
   ]
  },
  {
   "cell_type": "code",
   "execution_count": 17,
   "id": "17ee100d-9cea-444e-8a29-63d19321314b",
   "metadata": {
    "id": "17ee100d-9cea-444e-8a29-63d19321314b"
   },
   "outputs": [],
   "source": [
    "grid = {\n",
    "    \"alpha\": list(range(1, 11))\n",
    "}"
   ]
  },
  {
   "cell_type": "code",
   "execution_count": 18,
   "id": "10e4b9c9-7bd5-43fa-9cc1-0b45b17314c0",
   "metadata": {
    "id": "10e4b9c9-7bd5-43fa-9cc1-0b45b17314c0"
   },
   "outputs": [],
   "source": [
    "nb_cv = GridSearchCV(MultinomialNB(), grid, cv=10).fit(X_train, y_train)"
   ]
  },
  {
   "cell_type": "code",
   "execution_count": 19,
   "id": "c43032ed-115d-4566-a1c9-5c3879ca88da",
   "metadata": {
    "id": "c43032ed-115d-4566-a1c9-5c3879ca88da",
    "outputId": "f6ee7731-e6f5-431e-d702-5805c462bd63"
   },
   "outputs": [
    {
     "name": "stdout",
     "output_type": "stream",
     "text": [
      "Best parameters:  {'alpha': 1}\n",
      "Accuracy: 0.8773362662160288\n"
     ]
    }
   ],
   "source": [
    "print(\"Best parameters: \", nb_cv.best_params_)\n",
    "print(\"Accuracy:\", nb_cv.best_score_)"
   ]
  },
  {
   "cell_type": "code",
   "execution_count": 20,
   "id": "cc6a798c-fab5-4af4-864a-e73f54c875eb",
   "metadata": {
    "id": "cc6a798c-fab5-4af4-864a-e73f54c875eb"
   },
   "outputs": [],
   "source": [
    "model = MultinomialNB(alpha=1.0).fit(X_train, y_train)"
   ]
  },
  {
   "cell_type": "code",
   "execution_count": 21,
   "id": "d25fc0f9-d95d-42d2-8e37-ebe984d6a9d4",
   "metadata": {},
   "outputs": [
    {
     "name": "stdout",
     "output_type": "stream",
     "text": [
      "Time:  0:00:20.043353\n"
     ]
    }
   ],
   "source": [
    "end = datetime.now()\n",
    "time_taken = end - start\n",
    "print('Time: ', time_taken) "
   ]
  },
  {
   "cell_type": "code",
   "execution_count": 22,
   "id": "bddbbaac-cff1-4fb1-8922-916e5b7f8071",
   "metadata": {
    "id": "bddbbaac-cff1-4fb1-8922-916e5b7f8071",
    "outputId": "b4379d36-7c11-459f-97d5-76605e0516e3"
   },
   "outputs": [
    {
     "data": {
      "text/plain": [
       "0.8839742564197562"
      ]
     },
     "execution_count": 22,
     "metadata": {},
     "output_type": "execute_result"
    }
   ],
   "source": [
    "model.score(X_train, y_train)"
   ]
  },
  {
   "cell_type": "code",
   "execution_count": 23,
   "id": "03f375cf-3ae4-4ef7-9aca-acdd7afd2874",
   "metadata": {
    "id": "03f375cf-3ae4-4ef7-9aca-acdd7afd2874",
    "outputId": "6559ad78-046f-4ece-e7eb-e3cf0b62f0ec"
   },
   "outputs": [
    {
     "data": {
      "text/plain": [
       "0.8769970023913507"
      ]
     },
     "execution_count": 23,
     "metadata": {},
     "output_type": "execute_result"
    }
   ],
   "source": [
    "model.score(X_test, y_test)"
   ]
  },
  {
   "cell_type": "code",
   "execution_count": 24,
   "id": "a4e92235-3d48-4ac0-9a85-5e07eaec2130",
   "metadata": {
    "id": "a4e92235-3d48-4ac0-9a85-5e07eaec2130"
   },
   "outputs": [],
   "source": [
    "y_hat = model.predict(X_test)"
   ]
  },
  {
   "cell_type": "code",
   "execution_count": 25,
   "id": "b885a507-f3d1-41ad-a4ba-c3ae7411b161",
   "metadata": {
    "id": "b885a507-f3d1-41ad-a4ba-c3ae7411b161",
    "outputId": "4e2bb08f-6ae6-448d-ff47-825aa1d838aa"
   },
   "outputs": [
    {
     "data": {
      "text/plain": [
       "array([[ 2378,     2,  5261],\n",
       "       [   66,   196,  5540],\n",
       "       [   80,     7, 75541]], dtype=int64)"
      ]
     },
     "execution_count": 25,
     "metadata": {},
     "output_type": "execute_result"
    }
   ],
   "source": [
    "confusion_matrix(y_test, y_hat)"
   ]
  },
  {
   "cell_type": "code",
   "execution_count": 26,
   "id": "8873bf7c-67ac-488b-bdc9-d2cdff06c63f",
   "metadata": {
    "id": "8873bf7c-67ac-488b-bdc9-d2cdff06c63f",
    "outputId": "16db584d-706b-4572-d8b4-f897e91dcff8"
   },
   "outputs": [
    {
     "name": "stdout",
     "output_type": "stream",
     "text": [
      "              precision    recall  f1-score   support\n",
      "\n",
      "           0       0.94      0.31      0.47      7641\n",
      "           1       0.96      0.03      0.07      5802\n",
      "           2       0.87      1.00      0.93     75628\n",
      "\n",
      "    accuracy                           0.88     89071\n",
      "   macro avg       0.92      0.45      0.49     89071\n",
      "weighted avg       0.89      0.88      0.84     89071\n",
      "\n"
     ]
    }
   ],
   "source": [
    "print(classification_report(y_test, y_hat))"
   ]
  },
  {
   "cell_type": "markdown",
   "id": "11c1e8f8-af09-4770-a225-248ae67eeef1",
   "metadata": {
    "id": "11c1e8f8-af09-4770-a225-248ae67eeef1"
   },
   "source": [
    "- Naive Bayes with original data has 88% accuracy\n",
    "- Recall and f1-score are low\n",
    "- Precision is high"
   ]
  },
  {
   "cell_type": "markdown",
   "id": "654256ff-923d-40d4-978f-02241bc563b3",
   "metadata": {
    "id": "654256ff-923d-40d4-978f-02241bc563b3"
   },
   "source": [
    "### Build model with Decision Tree"
   ]
  },
  {
   "cell_type": "code",
   "execution_count": 27,
   "id": "c09f6f3e-01ea-434b-b354-16dc9db96eb6",
   "metadata": {},
   "outputs": [],
   "source": [
    "start = datetime.now()"
   ]
  },
  {
   "cell_type": "code",
   "execution_count": 28,
   "id": "5805c5eb-6751-4642-8b3e-ac8e80bd4d61",
   "metadata": {
    "id": "5805c5eb-6751-4642-8b3e-ac8e80bd4d61"
   },
   "outputs": [],
   "source": [
    "model = DecisionTreeClassifier().fit(X_train, y_train)"
   ]
  },
  {
   "cell_type": "code",
   "execution_count": 29,
   "id": "02b8c47f-5c2f-42ae-9a19-e54f7274595e",
   "metadata": {},
   "outputs": [
    {
     "name": "stdout",
     "output_type": "stream",
     "text": [
      "Time:  0:31:32.811327\n"
     ]
    }
   ],
   "source": [
    "end = datetime.now()\n",
    "time_taken = end - start\n",
    "print('Time: ', time_taken) "
   ]
  },
  {
   "cell_type": "code",
   "execution_count": 30,
   "id": "beb9069f-37b7-4252-8121-5c821c37662b",
   "metadata": {
    "id": "beb9069f-37b7-4252-8121-5c821c37662b",
    "outputId": "b89c8cff-6dc3-491a-bcb3-620ad668fc6c"
   },
   "outputs": [
    {
     "data": {
      "text/plain": [
       "0.9621171933547208"
      ]
     },
     "execution_count": 30,
     "metadata": {},
     "output_type": "execute_result"
    }
   ],
   "source": [
    "model.score(X_train, y_train)"
   ]
  },
  {
   "cell_type": "code",
   "execution_count": 31,
   "id": "d112acb0-bde8-467e-9f7c-40be32db653b",
   "metadata": {
    "id": "d112acb0-bde8-467e-9f7c-40be32db653b",
    "outputId": "b2476f0a-6b69-4f8b-ef44-4398912fdab8"
   },
   "outputs": [
    {
     "data": {
      "text/plain": [
       "0.8965207531070719"
      ]
     },
     "execution_count": 31,
     "metadata": {},
     "output_type": "execute_result"
    }
   ],
   "source": [
    "model.score(X_test, y_test)"
   ]
  },
  {
   "cell_type": "code",
   "execution_count": 32,
   "id": "e0c6a944-8b00-4cbf-937b-22677660ed4f",
   "metadata": {
    "id": "e0c6a944-8b00-4cbf-937b-22677660ed4f"
   },
   "outputs": [],
   "source": [
    "y_hat = model.predict(X_test)"
   ]
  },
  {
   "cell_type": "code",
   "execution_count": 33,
   "id": "6504eea3-55d7-4043-ad5e-9c0e07633dd1",
   "metadata": {
    "id": "6504eea3-55d7-4043-ad5e-9c0e07633dd1",
    "outputId": "4c90ebfa-6704-4e88-bacd-54c305b3ebab"
   },
   "outputs": [
    {
     "data": {
      "text/plain": [
       "array([[ 4949,   399,  2293],\n",
       "       [  984,  1946,  2872],\n",
       "       [ 1556,  1113, 72959]], dtype=int64)"
      ]
     },
     "execution_count": 33,
     "metadata": {},
     "output_type": "execute_result"
    }
   ],
   "source": [
    "confusion_matrix(y_test, y_hat)"
   ]
  },
  {
   "cell_type": "code",
   "execution_count": 34,
   "id": "b76c308a-eb6a-4597-b415-ab4f71b60562",
   "metadata": {
    "id": "b76c308a-eb6a-4597-b415-ab4f71b60562",
    "outputId": "29f14f37-331b-4461-925b-be5c29ee003e"
   },
   "outputs": [
    {
     "name": "stdout",
     "output_type": "stream",
     "text": [
      "              precision    recall  f1-score   support\n",
      "\n",
      "           0       0.66      0.65      0.65      7641\n",
      "           1       0.56      0.34      0.42      5802\n",
      "           2       0.93      0.96      0.95     75628\n",
      "\n",
      "    accuracy                           0.90     89071\n",
      "   macro avg       0.72      0.65      0.67     89071\n",
      "weighted avg       0.89      0.90      0.89     89071\n",
      "\n"
     ]
    }
   ],
   "source": [
    "print(classification_report(y_test, y_hat))"
   ]
  },
  {
   "cell_type": "markdown",
   "id": "90ecbf60-6604-428b-8411-602c2ed8d311",
   "metadata": {
    "id": "90ecbf60-6604-428b-8411-602c2ed8d311"
   },
   "source": [
    "- Decision Tree with original data has 90% accuracy\n",
    "- Precision, recall and f1-score are low"
   ]
  },
  {
   "cell_type": "markdown",
   "id": "a842a5aa-844a-4e7e-8cfd-19bc4726e759",
   "metadata": {
    "id": "736cc5bc-1a3c-4d8a-9814-16f0636f04b8"
   },
   "source": [
    "### Oversampling"
   ]
  },
  {
   "cell_type": "code",
   "execution_count": 35,
   "id": "be5f08a9-27f2-469f-bec9-3878cf7ad7e1",
   "metadata": {},
   "outputs": [],
   "source": [
    "ros = RandomOverSampler()\n",
    "X_ros, y_ros = ros.fit_resample(X, y)"
   ]
  },
  {
   "cell_type": "code",
   "execution_count": 36,
   "id": "e093e370-ca75-45e1-a76c-63c60c274915",
   "metadata": {},
   "outputs": [
    {
     "data": {
      "text/plain": [
       "Counter({2: 378476, 1: 378476, 0: 378476})"
      ]
     },
     "execution_count": 36,
     "metadata": {},
     "output_type": "execute_result"
    }
   ],
   "source": [
    "Counter(y_ros)"
   ]
  },
  {
   "cell_type": "markdown",
   "id": "00775c7b-ccf1-4c05-bc75-2dc288a27e98",
   "metadata": {},
   "source": [
    "### Train test split"
   ]
  },
  {
   "cell_type": "code",
   "execution_count": 37,
   "id": "c0cf6d3e-8dad-4f01-9c2e-7671e4cdc558",
   "metadata": {},
   "outputs": [],
   "source": [
    "X_train, X_test, y_train, y_test = train_test_split(X_ros, y_ros, test_size=0.2)"
   ]
  },
  {
   "cell_type": "markdown",
   "id": "f3e32bdf-d216-4c2c-af04-4c3305ff893f",
   "metadata": {},
   "source": [
    "### Build model with Logistic Regression using oversampled data"
   ]
  },
  {
   "cell_type": "code",
   "execution_count": 38,
   "id": "e5124314-7f69-4918-a17e-04a0d0f090af",
   "metadata": {},
   "outputs": [],
   "source": [
    "start = datetime.now()"
   ]
  },
  {
   "cell_type": "code",
   "execution_count": 39,
   "id": "32f750c5-3834-4018-a787-be7df8c74c28",
   "metadata": {},
   "outputs": [],
   "source": [
    "model = LogisticRegression().fit(X_train, y_train)"
   ]
  },
  {
   "cell_type": "code",
   "execution_count": 40,
   "id": "d2ed2edf-cc25-414f-9d39-5456673a5caf",
   "metadata": {},
   "outputs": [
    {
     "name": "stdout",
     "output_type": "stream",
     "text": [
      "Time:  0:01:15.378784\n"
     ]
    }
   ],
   "source": [
    "end = datetime.now()\n",
    "time_taken = end - start\n",
    "print('Time: ', time_taken) "
   ]
  },
  {
   "cell_type": "code",
   "execution_count": 41,
   "id": "40141533-9ab7-4398-9f96-f21acf264f65",
   "metadata": {},
   "outputs": [],
   "source": [
    "y_hat = model.predict(X_test)"
   ]
  },
  {
   "cell_type": "code",
   "execution_count": 42,
   "id": "6abb4776-f3d0-44f6-8939-7bff18d4c53c",
   "metadata": {},
   "outputs": [
    {
     "data": {
      "text/plain": [
       "0.8573026459197086"
      ]
     },
     "execution_count": 42,
     "metadata": {},
     "output_type": "execute_result"
    }
   ],
   "source": [
    "model.score(X_train, y_train)"
   ]
  },
  {
   "cell_type": "code",
   "execution_count": 43,
   "id": "059761bd-9249-470c-8aaf-c996d5e77050",
   "metadata": {},
   "outputs": [
    {
     "data": {
      "text/plain": [
       "0.8472340875263116"
      ]
     },
     "execution_count": 43,
     "metadata": {},
     "output_type": "execute_result"
    }
   ],
   "source": [
    "model.score(X_test, y_test)"
   ]
  },
  {
   "cell_type": "code",
   "execution_count": 44,
   "id": "842036d5-9c8f-425c-81a3-6a3c9197f3cd",
   "metadata": {},
   "outputs": [
    {
     "data": {
      "text/plain": [
       "array([[65661,  6638,  3480],\n",
       "       [ 8133, 60482,  6987],\n",
       "       [ 3224,  6229, 66252]], dtype=int64)"
      ]
     },
     "execution_count": 44,
     "metadata": {},
     "output_type": "execute_result"
    }
   ],
   "source": [
    "confusion_matrix(y_test, y_hat)"
   ]
  },
  {
   "cell_type": "code",
   "execution_count": 45,
   "id": "bb3b48d5-0ad9-4a0f-9b55-49e3beacc017",
   "metadata": {},
   "outputs": [
    {
     "name": "stdout",
     "output_type": "stream",
     "text": [
      "              precision    recall  f1-score   support\n",
      "\n",
      "           0       0.85      0.87      0.86     75779\n",
      "           1       0.82      0.80      0.81     75602\n",
      "           2       0.86      0.88      0.87     75705\n",
      "\n",
      "    accuracy                           0.85    227086\n",
      "   macro avg       0.85      0.85      0.85    227086\n",
      "weighted avg       0.85      0.85      0.85    227086\n",
      "\n"
     ]
    }
   ],
   "source": [
    "print(classification_report(y_test, y_hat))"
   ]
  },
  {
   "cell_type": "markdown",
   "id": "c60ac47f-a6f1-4e8a-8dc4-694d2a2d6877",
   "metadata": {},
   "source": [
    "- Logistic regression with oversampled data has 85% accuracy\n",
    "- Precision, recall and f1-score have improved compared to the original data"
   ]
  },
  {
   "cell_type": "markdown",
   "id": "2a4d6d30-2be0-451f-a1c2-5b45060287fd",
   "metadata": {},
   "source": [
    "### Build model with Naive Bayes using oversampled data"
   ]
  },
  {
   "cell_type": "code",
   "execution_count": 46,
   "id": "6e505216-1ddf-42c3-924a-8a1aa2219736",
   "metadata": {},
   "outputs": [],
   "source": [
    "start = datetime.now()"
   ]
  },
  {
   "cell_type": "code",
   "execution_count": 47,
   "id": "3745e80c-9c37-4ef5-a495-ec4dbb733d8d",
   "metadata": {},
   "outputs": [],
   "source": [
    "grid = {\n",
    "    \"alpha\": list(range(1, 11))\n",
    "}"
   ]
  },
  {
   "cell_type": "code",
   "execution_count": 48,
   "id": "7ddbae42-5c08-4492-aab9-ee0e025cce2d",
   "metadata": {},
   "outputs": [],
   "source": [
    "nb_cv = GridSearchCV(MultinomialNB(), grid, cv=10).fit(X_train, y_train)"
   ]
  },
  {
   "cell_type": "code",
   "execution_count": 49,
   "id": "2290da24-3a7d-48cd-ab3a-851aa1d8c9a7",
   "metadata": {},
   "outputs": [
    {
     "name": "stdout",
     "output_type": "stream",
     "text": [
      "Best parameters:  {'alpha': 1}\n",
      "Accuracy: 0.8565639362198606\n"
     ]
    }
   ],
   "source": [
    "print(\"Best parameters: \", nb_cv.best_params_)\n",
    "print(\"Accuracy:\", nb_cv.best_score_)"
   ]
  },
  {
   "cell_type": "code",
   "execution_count": 50,
   "id": "a3783b51-841f-4264-a9d7-92f7d33e15d8",
   "metadata": {},
   "outputs": [],
   "source": [
    "model = MultinomialNB(alpha=1.0).fit(X_train, y_train)"
   ]
  },
  {
   "cell_type": "code",
   "execution_count": 51,
   "id": "ebbc36ad-2c5e-4108-85ba-36cf20a49821",
   "metadata": {},
   "outputs": [
    {
     "name": "stdout",
     "output_type": "stream",
     "text": [
      "Time:  0:00:39.930013\n"
     ]
    }
   ],
   "source": [
    "end = datetime.now()\n",
    "time_taken = end - start\n",
    "print('Time: ', time_taken) "
   ]
  },
  {
   "cell_type": "code",
   "execution_count": 52,
   "id": "3e92f666-b3fd-4cab-9204-be2c35fed7dc",
   "metadata": {},
   "outputs": [
    {
     "data": {
      "text/plain": [
       "0.8744867021452273"
      ]
     },
     "execution_count": 52,
     "metadata": {},
     "output_type": "execute_result"
    }
   ],
   "source": [
    "model.score(X_train, y_train)"
   ]
  },
  {
   "cell_type": "code",
   "execution_count": 53,
   "id": "a62ecfb7-9050-4b47-885d-4a635bd45b12",
   "metadata": {},
   "outputs": [
    {
     "data": {
      "text/plain": [
       "0.8580493733651569"
      ]
     },
     "execution_count": 53,
     "metadata": {},
     "output_type": "execute_result"
    }
   ],
   "source": [
    "model.score(X_test, y_test)"
   ]
  },
  {
   "cell_type": "code",
   "execution_count": 54,
   "id": "a5e11f22-5c13-4785-8c54-77c54ce710d9",
   "metadata": {},
   "outputs": [],
   "source": [
    "y_hat = model.predict(X_test)"
   ]
  },
  {
   "cell_type": "code",
   "execution_count": 55,
   "id": "ab0ac951-09ef-44eb-9cce-f72f91230651",
   "metadata": {},
   "outputs": [
    {
     "data": {
      "text/plain": [
       "array([[67692,  5832,  2255],\n",
       "       [ 7219, 63336,  5047],\n",
       "       [ 3015,  8867, 63823]], dtype=int64)"
      ]
     },
     "execution_count": 55,
     "metadata": {},
     "output_type": "execute_result"
    }
   ],
   "source": [
    "confusion_matrix(y_test, y_hat)"
   ]
  },
  {
   "cell_type": "code",
   "execution_count": 56,
   "id": "ada53821-d020-48b3-8906-ee6a1fb4f6e6",
   "metadata": {},
   "outputs": [
    {
     "name": "stdout",
     "output_type": "stream",
     "text": [
      "              precision    recall  f1-score   support\n",
      "\n",
      "           0       0.87      0.89      0.88     75779\n",
      "           1       0.81      0.84      0.82     75602\n",
      "           2       0.90      0.84      0.87     75705\n",
      "\n",
      "    accuracy                           0.86    227086\n",
      "   macro avg       0.86      0.86      0.86    227086\n",
      "weighted avg       0.86      0.86      0.86    227086\n",
      "\n"
     ]
    }
   ],
   "source": [
    "print(classification_report(y_test, y_hat))"
   ]
  },
  {
   "cell_type": "markdown",
   "id": "927be811-b7b0-4f01-a0b5-83c9f3d09bc6",
   "metadata": {},
   "source": [
    "- Naive Bayes with oversampled data has 86% accuracy\n",
    "- Precision, recall and f1-score have improved compared to original data"
   ]
  },
  {
   "cell_type": "markdown",
   "id": "b89a2aee-69c6-4575-8c44-df270ff0919a",
   "metadata": {},
   "source": [
    "### Build model with Decision Tree using oversampled data"
   ]
  },
  {
   "cell_type": "code",
   "execution_count": 57,
   "id": "90ef6198-f79d-4a71-861e-7471bba92027",
   "metadata": {},
   "outputs": [],
   "source": [
    "start = datetime.now()"
   ]
  },
  {
   "cell_type": "code",
   "execution_count": 58,
   "id": "e6602f3a-608a-4c5e-85c4-96f8b83cc205",
   "metadata": {},
   "outputs": [],
   "source": [
    "model = DecisionTreeClassifier().fit(X_train, y_train)"
   ]
  },
  {
   "cell_type": "code",
   "execution_count": 59,
   "id": "8689f9d0-96b5-4677-8c76-3d0223c7b0ca",
   "metadata": {},
   "outputs": [
    {
     "name": "stdout",
     "output_type": "stream",
     "text": [
      "Time:  0:44:48.028861\n"
     ]
    }
   ],
   "source": [
    "end = datetime.now()\n",
    "time_taken = end - start\n",
    "print('Time: ', time_taken) "
   ]
  },
  {
   "cell_type": "code",
   "execution_count": 60,
   "id": "c1a61451-161b-476a-8ef4-e19b87470690",
   "metadata": {},
   "outputs": [
    {
     "data": {
      "text/plain": [
       "0.9073928101970403"
      ]
     },
     "execution_count": 60,
     "metadata": {},
     "output_type": "execute_result"
    }
   ],
   "source": [
    "model.score(X_train, y_train)"
   ]
  },
  {
   "cell_type": "code",
   "execution_count": 61,
   "id": "c46d2a86-7f42-47b0-84fa-9a967e0e0de4",
   "metadata": {},
   "outputs": [
    {
     "data": {
      "text/plain": [
       "0.8863866552759747"
      ]
     },
     "execution_count": 61,
     "metadata": {},
     "output_type": "execute_result"
    }
   ],
   "source": [
    "model.score(X_test, y_test)"
   ]
  },
  {
   "cell_type": "code",
   "execution_count": 62,
   "id": "4b3a626c-fe44-4c66-a55f-6555fcb616a4",
   "metadata": {},
   "outputs": [],
   "source": [
    "y_hat = model.predict(X_test)"
   ]
  },
  {
   "cell_type": "code",
   "execution_count": 63,
   "id": "ba70c1ba-b884-4626-8d09-612f11799354",
   "metadata": {},
   "outputs": [
    {
     "data": {
      "text/plain": [
       "array([[69656,  4693,  1430],\n",
       "       [ 6575, 65053,  3974],\n",
       "       [ 3717,  5411, 66577]], dtype=int64)"
      ]
     },
     "execution_count": 63,
     "metadata": {},
     "output_type": "execute_result"
    }
   ],
   "source": [
    "confusion_matrix(y_test, y_hat)"
   ]
  },
  {
   "cell_type": "code",
   "execution_count": 64,
   "id": "750ab356-b172-4a86-bd18-1aa5e31dd7b3",
   "metadata": {},
   "outputs": [
    {
     "name": "stdout",
     "output_type": "stream",
     "text": [
      "              precision    recall  f1-score   support\n",
      "\n",
      "           0       0.87      0.92      0.89     75779\n",
      "           1       0.87      0.86      0.86     75602\n",
      "           2       0.92      0.88      0.90     75705\n",
      "\n",
      "    accuracy                           0.89    227086\n",
      "   macro avg       0.89      0.89      0.89    227086\n",
      "weighted avg       0.89      0.89      0.89    227086\n",
      "\n"
     ]
    }
   ],
   "source": [
    "print(classification_report(y_test, y_hat))"
   ]
  },
  {
   "cell_type": "markdown",
   "id": "b99f08cb-a9fb-4939-b29b-0870d2fb51c3",
   "metadata": {},
   "source": [
    "- Decision Tree with oversampled data has 89% accuracy\n",
    "- Precision, recall and f1-score have improved compared to original data\n",
    "- It took almost 50 minutes to fit a model"
   ]
  },
  {
   "cell_type": "markdown",
   "id": "42e632bb-03c6-46b4-8f70-c677814fb41f",
   "metadata": {},
   "source": [
    "### To conclude:\n",
    "- Original data has high accuracy but precision, recall and f1 score are pretty low\n",
    "- When using oversampled data, the accuracy is not as high but precision, recall and f1 score have improved a lot.\n",
    "- So we should use oversampled data to build a model and predict, preferably choosing decision tree model with accuracy of 89% "
   ]
  },
  {
   "cell_type": "code",
   "execution_count": null,
   "id": "e92aca3a-21b3-45fc-9296-cedc4963e688",
   "metadata": {},
   "outputs": [],
   "source": []
  }
 ],
 "metadata": {
  "colab": {
   "provenance": []
  },
  "kernelspec": {
   "display_name": "Python 3 (ipykernel)",
   "language": "python",
   "name": "python3"
  },
  "language_info": {
   "codemirror_mode": {
    "name": "ipython",
    "version": 3
   },
   "file_extension": ".py",
   "mimetype": "text/x-python",
   "name": "python",
   "nbconvert_exporter": "python",
   "pygments_lexer": "ipython3",
   "version": "3.8.9"
  }
 },
 "nbformat": 4,
 "nbformat_minor": 5
}
