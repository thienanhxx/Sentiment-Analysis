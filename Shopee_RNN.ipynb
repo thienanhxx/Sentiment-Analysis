{
 "cells": [
  {
   "cell_type": "code",
   "execution_count": 1,
   "id": "40bb6a2d-6446-45d7-b30f-c59cfa68201a",
   "metadata": {},
   "outputs": [],
   "source": [
    "import numpy as np\n",
    "import pandas as pd\n",
    "import pylab as plt\n",
    "import matplotlib.pyplot as plt\n",
    "\n",
    "from sklearn.model_selection import train_test_split\n",
    "from sklearn.metrics import accuracy_score, precision_score, recall_score, f1_score\n",
    "from sklearn.model_selection import KFold, cross_val_score\n",
    "\n",
    "from tensorflow.python.keras.models import Sequential, load_model\n",
    "from tensorflow.python.keras.layers import Dense, Dropout\n",
    "from tensorflow.python.keras import optimizers\n",
    "from tensorflow.keras.callbacks import EarlyStopping, ModelCheckpoint\n",
    "from tensorflow.keras.layers import Embedding, LSTM, Dense\n",
    "from tensorflow.keras.preprocessing.text import Tokenizer\n",
    "from tensorflow.keras.preprocessing.sequence import pad_sequences\n",
    "from tensorflow.keras.utils import to_categorical\n",
    "from tensorflow.keras.models import load_model"
   ]
  },
  {
   "cell_type": "code",
   "execution_count": 2,
   "id": "6a727b21-c97f-4227-98ef-91d404a66c19",
   "metadata": {},
   "outputs": [],
   "source": [
    "df = pd.read_csv('Data_pre.csv')"
   ]
  },
  {
   "cell_type": "code",
   "execution_count": 3,
   "id": "9431d038-6ba9-4151-b71d-c71eb64120bd",
   "metadata": {},
   "outputs": [],
   "source": [
    "df.dropna(inplace=True)"
   ]
  },
  {
   "cell_type": "code",
   "execution_count": 4,
   "id": "30ea94ef-b3d0-444b-82c0-e343c2852cfa",
   "metadata": {},
   "outputs": [
    {
     "data": {
      "text/html": [
       "<div>\n",
       "<style scoped>\n",
       "    .dataframe tbody tr th:only-of-type {\n",
       "        vertical-align: middle;\n",
       "    }\n",
       "\n",
       "    .dataframe tbody tr th {\n",
       "        vertical-align: top;\n",
       "    }\n",
       "\n",
       "    .dataframe thead th {\n",
       "        text-align: right;\n",
       "    }\n",
       "</style>\n",
       "<table border=\"1\" class=\"dataframe\">\n",
       "  <thead>\n",
       "    <tr style=\"text-align: right;\">\n",
       "      <th></th>\n",
       "      <th>Unnamed: 0</th>\n",
       "      <th>comment</th>\n",
       "      <th>comment_pre</th>\n",
       "      <th>target</th>\n",
       "    </tr>\n",
       "  </thead>\n",
       "  <tbody>\n",
       "    <tr>\n",
       "      <th>0</th>\n",
       "      <td>0</td>\n",
       "      <td>chưa ktra nên chưa biết đc đứa nào cũng đc như...</td>\n",
       "      <td>kiểm</td>\n",
       "      <td>2</td>\n",
       "    </tr>\n",
       "    <tr>\n",
       "      <th>1</th>\n",
       "      <td>1</td>\n",
       "      <td>Lời đầu tiên cho phép được xin vì sự sơ suất c...</td>\n",
       "      <td>cho_phép sơ_suất hát rõ_ràng</td>\n",
       "      <td>2</td>\n",
       "    </tr>\n",
       "    <tr>\n",
       "      <th>2</th>\n",
       "      <td>2</td>\n",
       "      <td>1m6 50kg size M khá vừa vặn nhưng hok có cơ nê...</td>\n",
       "      <td>vừa_vặn đỏ đỏ cổ đẹp nhức đẹp ổn</td>\n",
       "      <td>2</td>\n",
       "    </tr>\n",
       "    <tr>\n",
       "      <th>3</th>\n",
       "      <td>3</td>\n",
       "      <td>Lần đầu mua shop, vải cũg khá ok. hợp vs mùa h...</td>\n",
       "      <td>đầu_shop hợp</td>\n",
       "      <td>2</td>\n",
       "    </tr>\n",
       "    <tr>\n",
       "      <th>4</th>\n",
       "      <td>4</td>\n",
       "      <td>áo đẹp form đẹp, mọi thứ đều ok, giao hàng nha...</td>\n",
       "      <td>đẹp form đẹp hàng thích</td>\n",
       "      <td>2</td>\n",
       "    </tr>\n",
       "  </tbody>\n",
       "</table>\n",
       "</div>"
      ],
      "text/plain": [
       "   Unnamed: 0                                            comment  \\\n",
       "0           0  chưa ktra nên chưa biết đc đứa nào cũng đc như...   \n",
       "1           1  Lời đầu tiên cho phép được xin vì sự sơ suất c...   \n",
       "2           2  1m6 50kg size M khá vừa vặn nhưng hok có cơ nê...   \n",
       "3           3  Lần đầu mua shop, vải cũg khá ok. hợp vs mùa h...   \n",
       "4           4  áo đẹp form đẹp, mọi thứ đều ok, giao hàng nha...   \n",
       "\n",
       "                        comment_pre  target  \n",
       "0                              kiểm       2  \n",
       "1      cho_phép sơ_suất hát rõ_ràng       2  \n",
       "2  vừa_vặn đỏ đỏ cổ đẹp nhức đẹp ổn       2  \n",
       "3                      đầu_shop hợp       2  \n",
       "4           đẹp form đẹp hàng thích       2  "
      ]
     },
     "execution_count": 4,
     "metadata": {},
     "output_type": "execute_result"
    }
   ],
   "source": [
    "df.head()"
   ]
  },
  {
   "cell_type": "code",
   "execution_count": 5,
   "id": "3dd70810-87fc-425e-9ed4-0c45d61e1e4b",
   "metadata": {},
   "outputs": [],
   "source": [
    "# Split the data into training and testing sets\n",
    "X_train, X_test, y_train, y_test = train_test_split(df['comment_pre'], df['target'], test_size=0.2, random_state=42)"
   ]
  },
  {
   "cell_type": "code",
   "execution_count": 6,
   "id": "2897f95f-030c-4592-a36a-c9aca321d3fc",
   "metadata": {},
   "outputs": [],
   "source": [
    "# Convert the input data to str values\n",
    "X_train = X_train.astype(str)\n",
    "X_test = X_test.astype(str)\n",
    "# Convert output data to str\n",
    "y_train_cat = to_categorical(y_train, num_classes=3)\n",
    "y_test_cat = to_categorical(y_test, num_classes=3)"
   ]
  },
  {
   "cell_type": "code",
   "execution_count": 7,
   "id": "597a866a-3f61-4def-9ccd-893588a8d0f7",
   "metadata": {},
   "outputs": [],
   "source": [
    "# Tokenize the text data\n",
    "tokenizer = Tokenizer(num_words=10000, oov_token='<OOV>')\n",
    "tokenizer.fit_on_texts(X_train)"
   ]
  },
  {
   "cell_type": "code",
   "execution_count": 8,
   "id": "88e2fffe-73e8-470d-bc5b-9e1ba718bcc6",
   "metadata": {},
   "outputs": [],
   "source": [
    "# Convert the text data to sequences of numerical vectors\n",
    "X_train_seq = tokenizer.texts_to_sequences(X_train)\n",
    "X_test_seq = tokenizer.texts_to_sequences(X_test)"
   ]
  },
  {
   "cell_type": "code",
   "execution_count": 9,
   "id": "3c7843bc-6e32-4dc2-9e4f-f5423121aaf9",
   "metadata": {},
   "outputs": [],
   "source": [
    "# Pad the sequences to the same length\n",
    "max_length = max([len(seq) for seq in X_train_seq])\n",
    "X_train_padded = pad_sequences(X_train_seq, maxlen=max_length, padding='post', truncating='post')\n",
    "X_test_padded = pad_sequences(X_test_seq, maxlen=max_length, padding='post', truncating='post')"
   ]
  },
  {
   "cell_type": "code",
   "execution_count": 10,
   "id": "d0b6b8ac-0c7b-43c5-a5e7-a328dea44664",
   "metadata": {},
   "outputs": [],
   "source": [
    "# Define the RNN model\n",
    "model = Sequential([    \n",
    "    Dense(1000, activation='relu', input_shape=(X_train_padded.shape[1],)),\n",
    "    Dropout(0.3),\n",
    "    Dense(500, activation='relu'),\n",
    "    Dropout(0.3),\n",
    "    Dense(300, activation='relu'),\n",
    "    Dropout(0.3),\n",
    "    Dense(3, activation='softmax'),\n",
    "])"
   ]
  },
  {
   "cell_type": "code",
   "execution_count": 11,
   "id": "1f3bcb3b-d400-4621-9475-27b36f085e00",
   "metadata": {},
   "outputs": [],
   "source": [
    "# Compile the model\n",
    "model.compile(loss='categorical_crossentropy', optimizer='adam', metrics=['accuracy'])"
   ]
  },
  {
   "cell_type": "code",
   "execution_count": 12,
   "id": "1cefd64b-1e31-47be-a388-e41ea0f151f6",
   "metadata": {},
   "outputs": [],
   "source": [
    "# Define the early stopping callback\n",
    "early_stopping = EarlyStopping(monitor='val_loss', patience=3)"
   ]
  },
  {
   "cell_type": "code",
   "execution_count": 13,
   "id": "320c871d-8dfb-47e3-8345-75751b8a52bf",
   "metadata": {},
   "outputs": [
    {
     "name": "stdout",
     "output_type": "stream",
     "text": [
      "Epoch 1/10\n",
      "4454/4454 [==============================] - 55s 12ms/step - loss: 0.7488 - accuracy: 0.8441 - val_loss: 0.4435 - val_accuracy: 0.8505\n",
      "Epoch 2/10\n",
      "4454/4454 [==============================] - 52s 12ms/step - loss: 0.4388 - accuracy: 0.8647 - val_loss: 0.4186 - val_accuracy: 0.8740\n",
      "Epoch 3/10\n",
      "4454/4454 [==============================] - 51s 12ms/step - loss: 0.4287 - accuracy: 0.8706 - val_loss: 0.4184 - val_accuracy: 0.8730\n",
      "Epoch 4/10\n",
      "4454/4454 [==============================] - 51s 12ms/step - loss: 0.4275 - accuracy: 0.8726 - val_loss: 0.4103 - val_accuracy: 0.8756\n",
      "Epoch 5/10\n",
      "4454/4454 [==============================] - 52s 12ms/step - loss: 0.4309 - accuracy: 0.8736 - val_loss: 0.4155 - val_accuracy: 0.8759\n",
      "Epoch 6/10\n",
      "4454/4454 [==============================] - 53s 12ms/step - loss: 0.4346 - accuracy: 0.8740 - val_loss: 0.4111 - val_accuracy: 0.8773\n",
      "Epoch 7/10\n",
      "4454/4454 [==============================] - 52s 12ms/step - loss: 0.4280 - accuracy: 0.8745 - val_loss: 0.4079 - val_accuracy: 0.8774\n",
      "Epoch 8/10\n",
      "4454/4454 [==============================] - 53s 12ms/step - loss: 0.4319 - accuracy: 0.8747 - val_loss: 0.4082 - val_accuracy: 0.8770\n",
      "Epoch 9/10\n",
      "4454/4454 [==============================] - 53s 12ms/step - loss: 0.4264 - accuracy: 0.8746 - val_loss: 0.4113 - val_accuracy: 0.8762\n",
      "Epoch 10/10\n",
      "4454/4454 [==============================] - 53s 12ms/step - loss: 0.4237 - accuracy: 0.8745 - val_loss: 0.4069 - val_accuracy: 0.8773\n"
     ]
    }
   ],
   "source": [
    "# Train the model with early stopping\n",
    "history = model.fit(X_train_padded, y_train_cat, epochs=10, batch_size=64, validation_split=0.2, callbacks=[early_stopping])"
   ]
  },
  {
   "cell_type": "code",
   "execution_count": 14,
   "id": "2e78e07b-15d1-4a51-b160-42bca81d82d8",
   "metadata": {},
   "outputs": [],
   "source": [
    "# Make predictions on the test data\n",
    "y_pred = model.predict(X_test_padded)"
   ]
  },
  {
   "cell_type": "code",
   "execution_count": 15,
   "id": "6e7eec68-4230-4ab6-9ca6-35ce00e7d927",
   "metadata": {},
   "outputs": [],
   "source": [
    "# Convert the predicted probabilities to class labels\n",
    "y_pred_labels = np.argmax(y_pred, axis=1)"
   ]
  },
  {
   "cell_type": "code",
   "execution_count": 16,
   "id": "9bcd7eb1-5858-4e78-9fb6-206621be3f73",
   "metadata": {},
   "outputs": [],
   "source": [
    "# Convert the one-hot encoded test labels to class labels\n",
    "y_test_labels = np.argmax(y_test_cat, axis=1)"
   ]
  },
  {
   "cell_type": "code",
   "execution_count": 17,
   "id": "77df455b-8ebf-4716-aa18-5209c168b0a0",
   "metadata": {},
   "outputs": [],
   "source": [
    "# Create a dataframe with the original comments, true labels, and predicted labels\n",
    "results_df = pd.DataFrame({'comment_pre': X_test, 'target_true': y_test_labels, 'target_pred': y_pred_labels})"
   ]
  },
  {
   "cell_type": "code",
   "execution_count": 18,
   "id": "cb8ea869-5bce-4692-8aa9-1fd7769629ca",
   "metadata": {},
   "outputs": [],
   "source": [
    "# Map the target labels back to their original names\n",
    "results_df['target_true'] = results_df['target_true'].map({0: 'negative', 1: 'neutral', 2: 'positive'})\n",
    "results_df['target_pred'] = results_df['target_pred'].map({0: 'negative', 1: 'neutral', 2: 'positive'})"
   ]
  },
  {
   "cell_type": "code",
   "execution_count": 19,
   "id": "a8848aeb-7181-400e-9abd-2236c8ab4599",
   "metadata": {},
   "outputs": [
    {
     "data": {
      "text/html": [
       "<div>\n",
       "<style scoped>\n",
       "    .dataframe tbody tr th:only-of-type {\n",
       "        vertical-align: middle;\n",
       "    }\n",
       "\n",
       "    .dataframe tbody tr th {\n",
       "        vertical-align: top;\n",
       "    }\n",
       "\n",
       "    .dataframe thead th {\n",
       "        text-align: right;\n",
       "    }\n",
       "</style>\n",
       "<table border=\"1\" class=\"dataframe\">\n",
       "  <thead>\n",
       "    <tr style=\"text-align: right;\">\n",
       "      <th></th>\n",
       "      <th>comment_pre</th>\n",
       "      <th>target_true</th>\n",
       "      <th>target_pred</th>\n",
       "    </tr>\n",
       "  </thead>\n",
       "  <tbody>\n",
       "    <tr>\n",
       "      <th>391159</th>\n",
       "      <td>dính đẹp</td>\n",
       "      <td>positive</td>\n",
       "      <td>positive</td>\n",
       "    </tr>\n",
       "    <tr>\n",
       "      <th>423320</th>\n",
       "      <td>thích thích mềm</td>\n",
       "      <td>positive</td>\n",
       "      <td>positive</td>\n",
       "    </tr>\n",
       "    <tr>\n",
       "      <th>416869</th>\n",
       "      <td>giới_thiệu thích đông đẹp đông dự ấm ủng_hộ</td>\n",
       "      <td>positive</td>\n",
       "      <td>positive</td>\n",
       "    </tr>\n",
       "    <tr>\n",
       "      <th>231022</th>\n",
       "      <td>đẹp</td>\n",
       "      <td>positive</td>\n",
       "      <td>positive</td>\n",
       "    </tr>\n",
       "    <tr>\n",
       "      <th>299161</th>\n",
       "      <td>dãn tốt rẻ</td>\n",
       "      <td>positive</td>\n",
       "      <td>positive</td>\n",
       "    </tr>\n",
       "  </tbody>\n",
       "</table>\n",
       "</div>"
      ],
      "text/plain": [
       "                                        comment_pre target_true target_pred\n",
       "391159                                     dính đẹp    positive    positive\n",
       "423320                              thích thích mềm    positive    positive\n",
       "416869  giới_thiệu thích đông đẹp đông dự ấm ủng_hộ    positive    positive\n",
       "231022                                          đẹp    positive    positive\n",
       "299161                                   dãn tốt rẻ    positive    positive"
      ]
     },
     "execution_count": 19,
     "metadata": {},
     "output_type": "execute_result"
    }
   ],
   "source": [
    "results_df.head()"
   ]
  },
  {
   "cell_type": "code",
   "execution_count": 21,
   "id": "7f283789-f116-402f-b383-a80372898ab0",
   "metadata": {},
   "outputs": [
    {
     "name": "stdout",
     "output_type": "stream",
     "text": [
      "[[ 1297    23  6405]\n",
      " [   16  1359  4385]\n",
      " [   52   240 75294]]\n"
     ]
    }
   ],
   "source": [
    "from sklearn.metrics import confusion_matrix\n",
    "\n",
    "# Calculate the confusion matrix\n",
    "cm = confusion_matrix(y_test_labels, y_pred_labels)\n",
    "\n",
    "# Print the confusion matrix\n",
    "print(cm)"
   ]
  },
  {
   "cell_type": "code",
   "execution_count": 22,
   "id": "fb6b2688-2cbd-4571-82a8-8625e1ac5910",
   "metadata": {},
   "outputs": [
    {
     "data": {
      "image/png": "[encoded data removed]",
      "text/plain": [
       "<Figure size 640x480 with 2 Axes>"
      ]
     },
     "metadata": {},
     "output_type": "display_data"
    }
   ],
   "source": [
    "import seaborn as sns\n",
    "import matplotlib.pyplot as plt\n",
    "\n",
    "# Create a heatmap of the confusion matrix\n",
    "sns.heatmap(cm, annot=True, cmap='Blues', fmt='g', xticklabels=['negative', 'neutral', 'positive'], yticklabels=['negative', 'neutral', 'positive'])\n",
    "\n",
    "# Set the axis labels and title\n",
    "plt.xlabel('Predicted')\n",
    "plt.ylabel('True')\n",
    "plt.title('Confusion Matrix')\n",
    "\n",
    "# Show the plot\n",
    "plt.show()"
   ]
  },
  {
   "cell_type": "code",
   "execution_count": 23,
   "id": "99da7820-264a-4054-9a68-86dc4d6e8162",
   "metadata": {},
   "outputs": [
    {
     "name": "stdout",
     "output_type": "stream",
     "text": [
      "              precision    recall  f1-score   support\n",
      "\n",
      "    negative       0.95      0.17      0.29      7725\n",
      "     neutral       0.84      0.24      0.37      5760\n",
      "    positive       0.87      1.00      0.93     75586\n",
      "\n",
      "    accuracy                           0.88     89071\n",
      "   macro avg       0.89      0.47      0.53     89071\n",
      "weighted avg       0.88      0.88      0.84     89071\n",
      "\n"
     ]
    }
   ],
   "source": [
    "from sklearn.metrics import classification_report\n",
    "\n",
    "print(classification_report(results_df['target_true'], results_df['target_pred']))"
   ]
  },
  {
   "cell_type": "markdown",
   "id": "a973e3ce-b260-4832-be47-8b55ef1eb76b",
   "metadata": {},
   "source": [
    "- Accuracy is 88% but recall, f1-score are low, choose Decision Tree from LDS6"
   ]
  }
 ],
 "metadata": {
  "kernelspec": {
   "display_name": "Python 3 (ipykernel)",
   "language": "python",
   "name": "python3"
  },
  "language_info": {
   "codemirror_mode": {
    "name": "ipython",
    "version": 3
   },
   "file_extension": ".py",
   "mimetype": "text/x-python",
   "name": "python",
   "nbconvert_exporter": "python",
   "pygments_lexer": "ipython3",
   "version": "3.8.9"
  }
 },
 "nbformat": 4,
 "nbformat_minor": 5
}
