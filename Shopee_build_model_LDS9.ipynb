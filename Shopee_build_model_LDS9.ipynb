{
 "cells": [
  {
   "cell_type": "code",
   "execution_count": 1,
   "id": "76b6e410-2d65-44b1-b866-976b721d2740",
   "metadata": {},
   "outputs": [],
   "source": [
    "import findspark\n",
    "findspark.init()"
   ]
  },
  {
   "cell_type": "code",
   "execution_count": 2,
   "id": "01554516-2473-4a32-8428-ac5565255688",
   "metadata": {},
   "outputs": [],
   "source": [
    "from pyspark.sql import SparkSession\n",
    "from pyspark import SparkContext\n",
    "from pyspark.sql import SQLContext"
   ]
  },
  {
   "cell_type": "code",
   "execution_count": 3,
   "id": "5cefc632-b68b-46d8-b71d-8890cd2521f0",
   "metadata": {},
   "outputs": [],
   "source": [
    "sc = SparkContext()"
   ]
  },
  {
   "cell_type": "code",
   "execution_count": 4,
   "id": "81ec4bb7-74bf-4736-8f9f-29c726419c0b",
   "metadata": {},
   "outputs": [],
   "source": [
    "spark = SparkSession(sc)"
   ]
  },
  {
   "cell_type": "markdown",
   "id": "36670023-63d6-41c9-b816-263df24e00a0",
   "metadata": {},
   "source": [
    "### Read the dataset"
   ]
  },
  {
   "cell_type": "code",
   "execution_count": 5,
   "id": "86d355a2-8e42-4cb3-8676-6fc078ecfeb3",
   "metadata": {},
   "outputs": [],
   "source": [
    "import pandas as pd\n",
    "from datetime import datetime\n",
    "from pyspark.sql.functions import *\n",
    "from pyspark.sql.types import *"
   ]
  },
  {
   "cell_type": "code",
   "execution_count": 6,
   "id": "726184e1-8b77-4909-bae7-5ae5a4878845",
   "metadata": {},
   "outputs": [
    {
     "data": {
      "text/html": [
       "<div>\n",
       "<style scoped>\n",
       "    .dataframe tbody tr th:only-of-type {\n",
       "        vertical-align: middle;\n",
       "    }\n",
       "\n",
       "    .dataframe tbody tr th {\n",
       "        vertical-align: top;\n",
       "    }\n",
       "\n",
       "    .dataframe thead th {\n",
       "        text-align: right;\n",
       "    }\n",
       "</style>\n",
       "<table border=\"1\" class=\"dataframe\">\n",
       "  <thead>\n",
       "    <tr style=\"text-align: right;\">\n",
       "      <th></th>\n",
       "      <th>comment</th>\n",
       "      <th>comment_pre</th>\n",
       "      <th>target</th>\n",
       "    </tr>\n",
       "  </thead>\n",
       "  <tbody>\n",
       "    <tr>\n",
       "      <th>0</th>\n",
       "      <td>chưa ktra nên chưa biết đc đứa nào cũng đc như...</td>\n",
       "      <td>kiểm</td>\n",
       "      <td>2</td>\n",
       "    </tr>\n",
       "    <tr>\n",
       "      <th>1</th>\n",
       "      <td>Lời đầu tiên cho phép được xin vì sự sơ suất c...</td>\n",
       "      <td>cho_phép sơ_suất hát rõ_ràng</td>\n",
       "      <td>2</td>\n",
       "    </tr>\n",
       "    <tr>\n",
       "      <th>2</th>\n",
       "      <td>1m6 50kg size M khá vừa vặn nhưng hok có cơ nê...</td>\n",
       "      <td>vừa_vặn đỏ đỏ cổ đẹp nhức đẹp ổn</td>\n",
       "      <td>2</td>\n",
       "    </tr>\n",
       "    <tr>\n",
       "      <th>3</th>\n",
       "      <td>Lần đầu mua shop, vải cũg khá ok. hợp vs mùa h...</td>\n",
       "      <td>đầu_shop hợp</td>\n",
       "      <td>2</td>\n",
       "    </tr>\n",
       "    <tr>\n",
       "      <th>4</th>\n",
       "      <td>áo đẹp form đẹp, mọi thứ đều ok, giao hàng nha...</td>\n",
       "      <td>đẹp form đẹp hàng thích</td>\n",
       "      <td>2</td>\n",
       "    </tr>\n",
       "  </tbody>\n",
       "</table>\n",
       "</div>"
      ],
      "text/plain": [
       "                                             comment  \\\n",
       "0  chưa ktra nên chưa biết đc đứa nào cũng đc như...   \n",
       "1  Lời đầu tiên cho phép được xin vì sự sơ suất c...   \n",
       "2  1m6 50kg size M khá vừa vặn nhưng hok có cơ nê...   \n",
       "3  Lần đầu mua shop, vải cũg khá ok. hợp vs mùa h...   \n",
       "4  áo đẹp form đẹp, mọi thứ đều ok, giao hàng nha...   \n",
       "\n",
       "                        comment_pre  target  \n",
       "0                              kiểm       2  \n",
       "1      cho_phép sơ_suất hát rõ_ràng       2  \n",
       "2  vừa_vặn đỏ đỏ cổ đẹp nhức đẹp ổn       2  \n",
       "3                      đầu_shop hợp       2  \n",
       "4           đẹp form đẹp hàng thích       2  "
      ]
     },
     "execution_count": 6,
     "metadata": {},
     "output_type": "execute_result"
    }
   ],
   "source": [
    "df = pd.read_csv('Data_pre.csv', index_col=[0])\n",
    "df.head()"
   ]
  },
  {
   "cell_type": "code",
   "execution_count": 7,
   "id": "706d9b17-7076-4209-bbdb-37d25ad9e3e3",
   "metadata": {},
   "outputs": [],
   "source": [
    "# Drop NaN values\n",
    "df = df.dropna().reset_index(drop=True)"
   ]
  },
  {
   "cell_type": "code",
   "execution_count": 8,
   "id": "f8beec0b-7fa2-4ba1-96a3-847a93be32e4",
   "metadata": {},
   "outputs": [],
   "source": [
    "df_schema = StructType([\n",
    "                        StructField(\"comment\", StringType(), True),\n",
    "                        StructField(\"comment_pre\", StringType(), True),\n",
    "                        StructField(\"target\", StringType(), True),\n",
    "                       ])\n",
    "data = spark.createDataFrame(df, schema=df_schema)"
   ]
  },
  {
   "cell_type": "code",
   "execution_count": 9,
   "id": "0c6b6d21-c783-4678-b10c-15c87cabfd57",
   "metadata": {},
   "outputs": [
    {
     "name": "stdout",
     "output_type": "stream",
     "text": [
      "+--------------------+--------------------+------+\n",
      "|             comment|         comment_pre|target|\n",
      "+--------------------+--------------------+------+\n",
      "|chưa ktra nên chư...|                kiểm|     2|\n",
      "|Lời đầu tiên cho ...|cho_phép sơ_suất ...|     2|\n",
      "|1m6 50kg size M k...|vừa_vặn đỏ đỏ cổ ...|     2|\n",
      "|Lần đầu mua shop,...|        đầu_shop hợp|     2|\n",
      "|áo đẹp form đẹp, ...|đẹp form đẹp hàng...|     2|\n",
      "|Áo rất là đẹp nha...|đẹp chất_lượng dà...|     2|\n",
      "|một mét sáu mươi ...|sáu_mươi_lăm thân...|     2|\n",
      "|Ko sao em không b...|            quên học|     2|\n",
      "|Không có gì để ch...|             chê hợp|     2|\n",
      "|Nhận hàng gói rất...|gọn_gàng đẹp ôm t...|     2|\n",
      "+--------------------+--------------------+------+\n",
      "only showing top 10 rows\n",
      "\n"
     ]
    }
   ],
   "source": [
    "data.show(10)"
   ]
  },
  {
   "cell_type": "code",
   "execution_count": 10,
   "id": "b758bc98-73c6-431c-bb58-cbbd8f60fa11",
   "metadata": {},
   "outputs": [
    {
     "name": "stdout",
     "output_type": "stream",
     "text": [
      "root\n",
      " |-- comment: string (nullable = true)\n",
      " |-- comment_pre: string (nullable = true)\n",
      " |-- target: string (nullable = true)\n",
      "\n"
     ]
    }
   ],
   "source": [
    "data.printSchema()"
   ]
  },
  {
   "cell_type": "code",
   "execution_count": 11,
   "id": "851ca15b-832a-44bb-85d2-eb47e7bec333",
   "metadata": {},
   "outputs": [
    {
     "data": {
      "text/plain": [
       "445354"
      ]
     },
     "execution_count": 11,
     "metadata": {},
     "output_type": "execute_result"
    }
   ],
   "source": [
    "data.count()"
   ]
  },
  {
   "cell_type": "code",
   "execution_count": 12,
   "id": "34b54a10-7ccd-46fe-a66d-ed92a48e868c",
   "metadata": {},
   "outputs": [],
   "source": [
    "from pyspark.ml.feature import RegexTokenizer, CountVectorizer\n",
    "from pyspark.ml.classification import LogisticRegression"
   ]
  },
  {
   "cell_type": "code",
   "execution_count": 13,
   "id": "150099b7-40aa-4e93-9a19-b2bcc2f89525",
   "metadata": {},
   "outputs": [],
   "source": [
    "# regular expression tokenizer\n",
    "regexTokenizer = RegexTokenizer(inputCol=\"comment_pre\", outputCol=\"words\")"
   ]
  },
  {
   "cell_type": "code",
   "execution_count": 14,
   "id": "2541edf6-39d4-4e79-a911-56354bbc3946",
   "metadata": {},
   "outputs": [],
   "source": [
    "countVectors = CountVectorizer(inputCol=\"words\", outputCol=\"features\")"
   ]
  },
  {
   "cell_type": "code",
   "execution_count": 15,
   "id": "ec133612-2f00-43c9-9c06-8b0f45f9776a",
   "metadata": {},
   "outputs": [],
   "source": [
    "from pyspark.ml import Pipeline\n",
    "from pyspark.ml.feature import OneHotEncoder, StringIndexer, VectorAssembler"
   ]
  },
  {
   "cell_type": "code",
   "execution_count": 16,
   "id": "54ddd223-17ce-4d63-a5e6-b68d33034186",
   "metadata": {},
   "outputs": [],
   "source": [
    "label_stringIdx = StringIndexer(inputCol = \"target\", outputCol = \"label\")\n",
    "\n",
    "pipeline = Pipeline(stages=[regexTokenizer, countVectors, label_stringIdx])"
   ]
  },
  {
   "cell_type": "code",
   "execution_count": 17,
   "id": "f9798407-3128-4bf6-accb-b5f5adfddc3d",
   "metadata": {},
   "outputs": [
    {
     "name": "stdout",
     "output_type": "stream",
     "text": [
      "+--------------------+--------------------+------+--------------------+--------------------+-----+\n",
      "|             comment|         comment_pre|target|               words|            features|label|\n",
      "+--------------------+--------------------+------+--------------------+--------------------+-----+\n",
      "|chưa ktra nên chư...|                kiểm|     2|              [kiểm]| (28925,[122],[1.0])|  0.0|\n",
      "|Lời đầu tiên cho ...|cho_phép sơ_suất ...|     2|[cho_phép, sơ_suấ...|(28925,[633,666,2...|  0.0|\n",
      "|1m6 50kg size M k...|vừa_vặn đỏ đỏ cổ ...|     2|[vừa_vặn, đỏ, đỏ,...|(28925,[0,2,91,13...|  0.0|\n",
      "|Lần đầu mua shop,...|        đầu_shop hợp|     2|     [đầu_shop, hợp]|(28925,[44,6983],...|  0.0|\n",
      "|áo đẹp form đẹp, ...|đẹp form đẹp hàng...|     2|[đẹp, form, đẹp, ...|(28925,[0,4,21,33...|  0.0|\n",
      "+--------------------+--------------------+------+--------------------+--------------------+-----+\n",
      "only showing top 5 rows\n",
      "\n"
     ]
    }
   ],
   "source": [
    "# Fit the pipeline to training documents.\n",
    "pipelineFit = pipeline.fit(data)\n",
    "dataset = pipelineFit.transform(data)\n",
    "dataset.show(5)"
   ]
  },
  {
   "cell_type": "markdown",
   "id": "d532930c-1969-4978-9e9b-2a327bcd9102",
   "metadata": {},
   "source": [
    "### Train test split"
   ]
  },
  {
   "cell_type": "code",
   "execution_count": 18,
   "id": "4f61c40c-f853-47ab-ae11-41e5804458e8",
   "metadata": {},
   "outputs": [
    {
     "name": "stdout",
     "output_type": "stream",
     "text": [
      "Training Dataset Count: 356316\n",
      "Test Dataset Count: 89038\n"
     ]
    }
   ],
   "source": [
    "(trainingData, testData) = dataset.randomSplit([0.8, 0.2])\n",
    "print(\"Training Dataset Count: \" + str(trainingData.count()))\n",
    "print(\"Test Dataset Count: \" + str(testData.count()))"
   ]
  },
  {
   "cell_type": "markdown",
   "id": "12c1d157-c3d7-4a72-9b5c-2d0fd8cd4af5",
   "metadata": {},
   "source": [
    "### Build model with Logistic Regression"
   ]
  },
  {
   "cell_type": "code",
   "execution_count": 19,
   "id": "abc76a2b-225a-4da2-8252-191173c256ac",
   "metadata": {},
   "outputs": [],
   "source": [
    "start = datetime.now()"
   ]
  },
  {
   "cell_type": "code",
   "execution_count": 20,
   "id": "627761f0-9299-4f96-aad9-ab591677f5ab",
   "metadata": {},
   "outputs": [
    {
     "name": "stdout",
     "output_type": "stream",
     "text": [
      "+------------------------------+------------------------------+-----+----------+\n",
      "|                   comment_pre|                   probability|label|prediction|\n",
      "+------------------------------+------------------------------+-----+----------+\n",
      "|đẹp đẹp đẹp đẹp đẹp đẹp đẹp...|[0.9998667731479504,4.79142...|  0.0|       0.0|\n",
      "|đẹp thoáng tốt đẹp thoáng t...|[0.9988660702181836,4.65874...|  0.0|       0.0|\n",
      "|ổn ổn ổn ổn ổn ổn ổn ổn ổn ...|[0.998860177352765,2.521460...|  0.0|       0.0|\n",
      "|hàng đẹp sop đẹp sop đẹp so...|[0.9987007645022109,6.05129...|  0.0|       0.0|\n",
      "|đẹp ưng_ý đẹp ưng_ý hài_lòn...|[0.9986842838113984,5.48669...|  0.0|       0.0|\n",
      "|ổn ổn ổn ổn ổn ổn ổn ổn ổn ...|[0.9979086658624381,5.29852...|  0.0|       0.0|\n",
      "|mềm cực mềm cực mềm cực mềm...|[0.9978745133656095,0.00122...|  0.0|       0.0|\n",
      "|đẹp mát hơi đẹp mát hơi đẹp...|[0.9977432884412953,5.87926...|  0.0|       0.0|\n",
      "|đẹp không_mỏng đáng_giá ủng...|[0.9969626709755939,0.00136...|  0.0|       0.0|\n",
      "|ổn ổn ổn ổn ổn ổn ổn ổn ổn ...|[0.9961429902407553,0.00111...|  0.0|       0.0|\n",
      "+------------------------------+------------------------------+-----+----------+\n",
      "only showing top 10 rows\n",
      "\n"
     ]
    }
   ],
   "source": [
    "lr = LogisticRegression(maxIter=20, regParam=0.3, elasticNetParam=0)\n",
    "lrModel = lr.fit(trainingData)\n",
    "\n",
    "predictions = lrModel.transform(testData)\n",
    "\n",
    "predictions.filter(predictions['prediction'] == 0).select(\"comment_pre\",\"probability\",\"label\",\"prediction\")\\\n",
    ".orderBy(\"probability\", ascending=False).show(n = 10, truncate = 30)"
   ]
  },
  {
   "cell_type": "code",
   "execution_count": 21,
   "id": "5d018f14-f944-440b-8ea0-92b2d1b0b73c",
   "metadata": {},
   "outputs": [
    {
     "name": "stdout",
     "output_type": "stream",
     "text": [
      "Time:  0:00:36.750560\n"
     ]
    }
   ],
   "source": [
    "end = datetime.now()\n",
    "time_taken = end - start\n",
    "print('Time: ', time_taken) "
   ]
  },
  {
   "cell_type": "code",
   "execution_count": 22,
   "id": "c73da6ce-4f53-493a-ab64-46ebd485051c",
   "metadata": {},
   "outputs": [
    {
     "name": "stdout",
     "output_type": "stream",
     "text": [
      "0.8182369192669691\n"
     ]
    }
   ],
   "source": [
    "from pyspark.ml.evaluation import MulticlassClassificationEvaluator\n",
    "evaluator = MulticlassClassificationEvaluator(predictionCol=\"prediction\")\n",
    "lrAccuracy = evaluator.evaluate(predictions)\n",
    "print(lrAccuracy)"
   ]
  },
  {
   "cell_type": "code",
   "execution_count": 23,
   "id": "3ec15a29-d7e9-4683-8ac8-60cd334f509a",
   "metadata": {},
   "outputs": [],
   "source": [
    "trainingSummary = lrModel.summary"
   ]
  },
  {
   "cell_type": "code",
   "execution_count": 24,
   "id": "46edc7f2-e1f1-40d1-967a-5da479f03ccd",
   "metadata": {},
   "outputs": [
    {
     "name": "stdout",
     "output_type": "stream",
     "text": [
      "\n",
      "Accuracy: 0.8729498535008251\n",
      "\n",
      "FPR: 0.6995033871190769\n",
      "\n",
      "TPR: 0.8729498535008251\n",
      "\n",
      "F-measure: 0.8314279021884564\n",
      "\n",
      "Precision: 0.8708411729252752\n",
      "\n",
      "Recall: 0.8729498535008251\n"
     ]
    }
   ],
   "source": [
    "accuracy = trainingSummary.accuracy\n",
    "falsePositiveRate = trainingSummary.weightedFalsePositiveRate\n",
    "truePositiveRate = trainingSummary.weightedTruePositiveRate\n",
    "fMeasure = trainingSummary.weightedFMeasure()\n",
    "precision = trainingSummary.weightedPrecision\n",
    "recall = trainingSummary.weightedRecall\n",
    "print(\"\\nAccuracy: %s\\n\\nFPR: %s\\n\\nTPR: %s\\n\\nF-measure: %s\\n\\nPrecision: %s\\n\\nRecall: %s\"\n",
    "      % (accuracy, falsePositiveRate, truePositiveRate, fMeasure, precision, recall))"
   ]
  },
  {
   "cell_type": "markdown",
   "id": "04d49c17-13a7-469a-86fb-c125dda4dce5",
   "metadata": {},
   "source": [
    "- Logistic Regression has accuracy of 81%"
   ]
  },
  {
   "cell_type": "markdown",
   "id": "cf5d6584-3a9e-472f-aef1-4bcb9121a5e6",
   "metadata": {},
   "source": [
    "### Build model with Naive Bayes"
   ]
  },
  {
   "cell_type": "code",
   "execution_count": 25,
   "id": "dfce907a-b0b2-4a42-bb6a-0f5985c2a776",
   "metadata": {},
   "outputs": [],
   "source": [
    "start = datetime.now()"
   ]
  },
  {
   "cell_type": "code",
   "execution_count": 26,
   "id": "e01e5f3b-df85-4ec5-831a-f84da255b647",
   "metadata": {},
   "outputs": [
    {
     "name": "stdout",
     "output_type": "stream",
     "text": [
      "+------------------------------+------------------------------+-----+----------+\n",
      "|                   comment_pre|                   probability|label|prediction|\n",
      "+------------------------------+------------------------------+-----+----------+\n",
      "|đẹp yêu yêu yêu yêu yêu yêu...|[1.0,3.4961041335706486E-17...|  0.0|       0.0|\n",
      "|thề đẹp dã í săn mã rẻ đẹp ...|[1.0,2.0141526284388915E-18...|  0.0|       0.0|\n",
      "|đẹp yêu yêu yêu yêu yêu yêu...|[1.0,9.182706520196624E-19,...|  0.0|       0.0|\n",
      "|tuyệt_vời tuyệt_vời tuyệt_v...|[1.0,5.7850294481287825E-19...|  0.0|       0.0|\n",
      "|chất_lượng đẹp yêu yêu yêu ...|[1.0,3.622900912350774E-19,...|  0.0|       0.0|\n",
      "|yêu yêu thích yêu yêu thích...|[1.0,7.002599871615441E-20,...|  0.0|       0.0|\n",
      "|ưng xịn xò ưng ủng_hộ xịn x...|[1.0,5.830394750651891E-20,...|  0.0|       0.0|\n",
      "|yêu yêu yêu yêu yêu yêu yêu...|[1.0,1.07916399417859E-20,7...|  0.0|       0.0|\n",
      "|yêu yêu yêu yêu yêu yêu yêu...|[1.0,1.07916399417859E-20,7...|  0.0|       0.0|\n",
      "|ủng_hộ yêu yêu yêu yêu yêu ...|[1.0,6.378768026977969E-21,...|  0.0|       0.0|\n",
      "+------------------------------+------------------------------+-----+----------+\n",
      "only showing top 10 rows\n",
      "\n"
     ]
    }
   ],
   "source": [
    "from pyspark.ml.classification import NaiveBayes\n",
    "nb = NaiveBayes(smoothing=1)\n",
    "nbModel = nb.fit(trainingData)\n",
    "predictions = nbModel.transform(testData)\n",
    "predictions.filter(predictions['prediction'] == 0) \\\n",
    "    .select(\"comment_pre\",\"probability\",\"label\",\"prediction\") \\\n",
    "    .orderBy(\"probability\", ascending=False) \\\n",
    "    .show(n = 10, truncate = 30)"
   ]
  },
  {
   "cell_type": "code",
   "execution_count": 27,
   "id": "523fa071-6e73-4955-9976-20fdad878a37",
   "metadata": {},
   "outputs": [
    {
     "name": "stdout",
     "output_type": "stream",
     "text": [
      "Time:  0:00:24.352937\n"
     ]
    }
   ],
   "source": [
    "end = datetime.now()\n",
    "time_taken = end - start\n",
    "print('Time: ', time_taken) "
   ]
  },
  {
   "cell_type": "code",
   "execution_count": 28,
   "id": "562ec9cb-849b-43a9-b9f0-91b1a6a881e6",
   "metadata": {},
   "outputs": [
    {
     "name": "stdout",
     "output_type": "stream",
     "text": [
      "0.8628350573584076\n"
     ]
    }
   ],
   "source": [
    "evaluator = MulticlassClassificationEvaluator(predictionCol=\"prediction\")\n",
    "nbAccuracy = evaluator.evaluate(predictions)\n",
    "print(nbAccuracy)"
   ]
  },
  {
   "cell_type": "markdown",
   "id": "30e72712-377c-41e0-bff2-7dbb99cd5653",
   "metadata": {},
   "source": [
    "- Naive Bayes has accuracy of 86%"
   ]
  },
  {
   "cell_type": "markdown",
   "id": "17ab8487-9dbf-42eb-8396-6690a4c39958",
   "metadata": {},
   "source": [
    "### Build model with Random Forest"
   ]
  },
  {
   "cell_type": "code",
   "execution_count": 29,
   "id": "6bc76601-940d-48fc-8f52-63faba2435d9",
   "metadata": {},
   "outputs": [],
   "source": [
    "start = datetime.now()"
   ]
  },
  {
   "cell_type": "code",
   "execution_count": 30,
   "id": "251c5ae2-bdd3-4fe9-a6ee-4aa65102c03c",
   "metadata": {},
   "outputs": [
    {
     "name": "stdout",
     "output_type": "stream",
     "text": [
      "+------------------------------+------------------------------+-----+----------+\n",
      "|                   comment_pre|                   probability|label|prediction|\n",
      "+------------------------------+------------------------------+-----+----------+\n",
      "|đẹp đẹp cẩn_thận dày_dặn th...|[0.8700988519150176,0.07335...|  0.0|       0.0|\n",
      "|dày_dặn thích thích thích t...|[0.8685859119206152,0.07372...|  0.0|       0.0|\n",
      "|cực_kì đẹp rẻ mềm dãn tốt v...|[0.8683324624890859,0.07402...|  0.0|       0.0|\n",
      "|đẹp hài_lòng thoải_mái giãn...|[0.8675324094698945,0.07484...|  0.0|       0.0|\n",
      "|ưng đàn_ông xịn mịn yêu mềm...|[0.8675013407901839,0.07472...|  0.0|       0.0|\n",
      "|yêu ạaa đẹp mát rẻ không_đợ...|[0.866811636660231,0.075148...|  0.0|       0.0|\n",
      "|xịn xò chất_lượng tốt dày_d...|[0.866626111225374,0.075237...|  0.0|       0.0|\n",
      "|chất_lượng đồng_tiền ưng má...|[0.8660811186442698,0.07546...|  0.0|       0.0|\n",
      "|đẹp chất_lượng tốt dãn tập ...|[0.8660783595326348,0.07521...|  0.0|       0.0|\n",
      "|tốt vô_cùng mềm mịn_mát thí...|[0.8659567217353099,0.07571...|  0.0|       0.0|\n",
      "+------------------------------+------------------------------+-----+----------+\n",
      "only showing top 10 rows\n",
      "\n"
     ]
    }
   ],
   "source": [
    "from pyspark.ml.classification import RandomForestClassifier\n",
    "rf = RandomForestClassifier(labelCol=\"label\", \\\n",
    "                            featuresCol=\"features\", \\\n",
    "                            numTrees = 100, \\\n",
    "                            maxDepth = 4, \\\n",
    "                            maxBins = 32)\n",
    "# Train model with Training Data\n",
    "rfModel = rf.fit(trainingData)\n",
    "predictions = rfModel.transform(testData)\n",
    "predictions.filter(predictions['prediction'] == 0) \\\n",
    "    .select(\"comment_pre\",\"probability\",\"label\",\"prediction\") \\\n",
    "    .orderBy(\"probability\", ascending=False) \\\n",
    "    .show(n = 10, truncate = 30)"
   ]
  },
  {
   "cell_type": "code",
   "execution_count": 31,
   "id": "0821173d-67e6-44f3-885c-5b2ef30844dd",
   "metadata": {},
   "outputs": [
    {
     "name": "stdout",
     "output_type": "stream",
     "text": [
      "Time:  0:04:56.503171\n"
     ]
    }
   ],
   "source": [
    "end = datetime.now()\n",
    "time_taken = end - start\n",
    "print('Time: ', time_taken) "
   ]
  },
  {
   "cell_type": "code",
   "execution_count": 32,
   "id": "8e2d4c29-790d-4a7f-b9d7-7e18d95fc537",
   "metadata": {},
   "outputs": [
    {
     "name": "stdout",
     "output_type": "stream",
     "text": [
      "0.7783746062243122\n"
     ]
    }
   ],
   "source": [
    "evaluator = MulticlassClassificationEvaluator(predictionCol=\"prediction\")\n",
    "rfAccuracy = evaluator.evaluate(predictions)\n",
    "print(rfAccuracy) "
   ]
  },
  {
   "cell_type": "markdown",
   "id": "66ee63e0-2e74-47a3-b067-a09bfd5d4d46",
   "metadata": {},
   "source": [
    "- Random Forest has accuracy of 77%"
   ]
  },
  {
   "cell_type": "markdown",
   "id": "1f2e8759-530c-49ec-a916-410d9a23ecb5",
   "metadata": {},
   "source": [
    "### Build model with Decision Tree"
   ]
  },
  {
   "cell_type": "code",
   "execution_count": 33,
   "id": "df5004cb-16a3-4c2d-a117-73e53a91d29a",
   "metadata": {},
   "outputs": [],
   "source": [
    "start = datetime.now()"
   ]
  },
  {
   "cell_type": "code",
   "execution_count": 34,
   "id": "2b664ecd-ffcd-4bbf-9480-02bfe82ac449",
   "metadata": {},
   "outputs": [
    {
     "name": "stdout",
     "output_type": "stream",
     "text": [
      "+----------------------------+------------------------------+-----+----------+\n",
      "|                 comment_pre|                   probability|label|prediction|\n",
      "+----------------------------+------------------------------+-----+----------+\n",
      "|                  chất_lượng|[0.8902851210738514,0.06363...|  0.0|       0.0|\n",
      "|    chất_lượng tuyệt_vời đẹp|[0.8902851210738514,0.06363...|  0.0|       0.0|\n",
      "|                  chất_lượng|[0.8902851210738514,0.06363...|  0.0|       0.0|\n",
      "|tốt tiện nhiệt_tình gọn_gàng|[0.8902851210738514,0.06363...|  0.0|       0.0|\n",
      "|        chất_lượng tuyệt_vời|[0.8902851210738514,0.06363...|  0.0|       0.0|\n",
      "|                  chất_lượng|[0.8902851210738514,0.06363...|  0.0|       0.0|\n",
      "|               tuyệt_vời tốt|[0.8902851210738514,0.06363...|  0.0|       0.0|\n",
      "|                  chất_lượng|[0.8902851210738514,0.06363...|  0.0|       0.0|\n",
      "|                         đẹp|[0.8902851210738514,0.06363...|  0.0|       0.0|\n",
      "|                  chất_lượng|[0.8902851210738514,0.06363...|  0.0|       0.0|\n",
      "+----------------------------+------------------------------+-----+----------+\n",
      "only showing top 10 rows\n",
      "\n"
     ]
    }
   ],
   "source": [
    "from pyspark.ml.classification import DecisionTreeClassifier\n",
    "dt = DecisionTreeClassifier(featuresCol = 'features', labelCol = 'label', maxDepth = 3)\n",
    "dtModel = dt.fit(trainingData)\n",
    "predictions = dtModel.transform(testData)\n",
    "predictions.filter(predictions['prediction'] == 0) \\\n",
    "    .select(\"comment_pre\",\"probability\",\"label\",\"prediction\") \\\n",
    "    .orderBy(\"probability\", ascending=False) \\\n",
    "    .show(n = 10, truncate = 30)"
   ]
  },
  {
   "cell_type": "code",
   "execution_count": 35,
   "id": "f413689a-5670-4142-bb0c-c6937dd82ed3",
   "metadata": {},
   "outputs": [
    {
     "name": "stdout",
     "output_type": "stream",
     "text": [
      "Time:  0:04:19.847811\n"
     ]
    }
   ],
   "source": [
    "end = datetime.now()\n",
    "time_taken = end - start\n",
    "print('Time: ', time_taken) "
   ]
  },
  {
   "cell_type": "code",
   "execution_count": 36,
   "id": "692c606f-a0c6-4654-882a-04234cc55627",
   "metadata": {},
   "outputs": [
    {
     "name": "stdout",
     "output_type": "stream",
     "text": [
      "0.8560316851569771\n"
     ]
    }
   ],
   "source": [
    "evaluator = MulticlassClassificationEvaluator(predictionCol=\"prediction\")\n",
    "dtAccuracy = evaluator.evaluate(predictions)\n",
    "print(dtAccuracy) "
   ]
  },
  {
   "cell_type": "markdown",
   "id": "59a4c974-279b-467b-915b-5ff450e057a5",
   "metadata": {},
   "source": [
    "- Decision Tree has accuracy of 85%"
   ]
  },
  {
   "cell_type": "markdown",
   "id": "500d4659-f39c-4732-8d56-2285b28f4105",
   "metadata": {},
   "source": [
    "### Oversampling"
   ]
  },
  {
   "cell_type": "code",
   "execution_count": 37,
   "id": "aaab8a5d-a829-4395-9e28-0c97a4466fb8",
   "metadata": {},
   "outputs": [],
   "source": [
    "data_a = data.filter(data['target'] == 0)\n",
    "data_b = data.filter(data['target'] == 1)\n",
    "data_c = data.filter(data['target'] == 2)\n",
    "\n",
    "\n",
    "a_count = data_a.count()\n",
    "b_count = data_b.count()\n",
    "c_count = data_c.count() \n",
    "ratio_a_c = c_count / a_count\n",
    "ratio_b_c = c_count / b_count\n",
    "\n",
    "data_a_overampled = data_a.sample(withReplacement=True, fraction=ratio_a_c)\n",
    "data_b_overampled = data_b.sample(withReplacement=True, fraction=ratio_b_c)\n",
    "data_new = data_c.unionAll(data_a_overampled).unionAll(data_b_overampled)"
   ]
  },
  {
   "cell_type": "code",
   "execution_count": 38,
   "id": "7446a743-9c7c-48fc-92c1-5b07ff48b97a",
   "metadata": {},
   "outputs": [
    {
     "name": "stdout",
     "output_type": "stream",
     "text": [
      "+------+------+\n",
      "|target| count|\n",
      "+------+------+\n",
      "|     2|378476|\n",
      "|     0|377973|\n",
      "|     1|378410|\n",
      "+------+------+\n",
      "\n"
     ]
    }
   ],
   "source": [
    "data_new.groupBy('target').count().show()"
   ]
  },
  {
   "cell_type": "code",
   "execution_count": 39,
   "id": "edbd307e-cb04-4b86-b035-a5870d7a5d2a",
   "metadata": {},
   "outputs": [
    {
     "name": "stdout",
     "output_type": "stream",
     "text": [
      "+--------------------+--------------------+------+--------------------+--------------------+-----+\n",
      "|             comment|         comment_pre|target|               words|            features|label|\n",
      "+--------------------+--------------------+------+--------------------+--------------------+-----+\n",
      "|chưa ktra nên chư...|                kiểm|     2|              [kiểm]|  (28925,[77],[1.0])|  0.0|\n",
      "|Lời đầu tiên cho ...|cho_phép sơ_suất ...|     2|[cho_phép, sơ_suấ...|(28925,[419,710,1...|  0.0|\n",
      "|1m6 50kg size M k...|vừa_vặn đỏ đỏ cổ ...|     2|[vừa_vặn, đỏ, đỏ,...|(28925,[0,3,97,13...|  0.0|\n",
      "|Lần đầu mua shop,...|        đầu_shop hợp|     2|     [đầu_shop, hợp]|(28925,[65,10267]...|  0.0|\n",
      "|áo đẹp form đẹp, ...|đẹp form đẹp hàng...|     2|[đẹp, form, đẹp, ...|(28925,[0,7,33,36...|  0.0|\n",
      "+--------------------+--------------------+------+--------------------+--------------------+-----+\n",
      "only showing top 5 rows\n",
      "\n"
     ]
    }
   ],
   "source": [
    "pipelineFit_os = pipeline.fit(data_new)\n",
    "dataset_os = pipelineFit_os.transform(data_new)\n",
    "dataset_os.show(5)"
   ]
  },
  {
   "cell_type": "code",
   "execution_count": 40,
   "id": "cc1a6898-0da2-476c-87a3-a5fdd29febfe",
   "metadata": {},
   "outputs": [
    {
     "name": "stdout",
     "output_type": "stream",
     "text": [
      "Training Dataset Count: 907809\n",
      "Test Dataset Count: 227050\n"
     ]
    }
   ],
   "source": [
    "# Train test split\n",
    "(trainingData, testData) = dataset_os.randomSplit([0.8, 0.2])\n",
    "print(\"Training Dataset Count: \" + str(trainingData.count()))\n",
    "print(\"Test Dataset Count: \" + str(testData.count()))"
   ]
  },
  {
   "cell_type": "markdown",
   "id": "da5b0afb-9dec-450d-a981-89febf098b63",
   "metadata": {},
   "source": [
    "### Logistic Regression with oversampled data"
   ]
  },
  {
   "cell_type": "code",
   "execution_count": 41,
   "id": "88bfd9a8-bd0e-48e0-9672-a6af01e81361",
   "metadata": {},
   "outputs": [],
   "source": [
    "start = datetime.now()"
   ]
  },
  {
   "cell_type": "code",
   "execution_count": 42,
   "id": "b45a914f-edbe-4815-9cb6-39b498b3e76f",
   "metadata": {},
   "outputs": [
    {
     "name": "stdout",
     "output_type": "stream",
     "text": [
      "+------------------------------+------------------------------+-----+----------+\n",
      "|                   comment_pre|                   probability|label|prediction|\n",
      "+------------------------------+------------------------------+-----+----------+\n",
      "|đẹp hàng đẹp hàng đẹp hàng ...|[0.9999999999999996,5.46253...|  0.0|       0.0|\n",
      "|đẹp đẹp đẹp đẹp đẹp đẹp đẹp...|[0.9999999999999996,5.37355...|  0.0|       0.0|\n",
      "|đẹp đẹp tốt nhiềucười ơn nh...|[0.9999999969980284,2.01424...|  0.0|       0.0|\n",
      "|đẹp đẹp đẹp đẹp đẹp đẹp đẹp...|[0.9999986272499455,1.21294...|  0.0|       0.0|\n",
      "|tuyệt_vời tuyệt_vời tuyệt_v...|[0.9999646646899828,1.52591...|  0.0|       0.0|\n",
      "|đẹp ghé đẹp ghé đẹp ghé đẹp...|[0.9997007057486806,7.39566...|  0.0|       0.0|\n",
      "|tuyệt_vời rẻ đẹp phục_vụ tố...|[0.9995586269667164,2.57717...|  0.0|       0.0|\n",
      "|ổn ổn ổn ổn ổn ổn ổn ổn ổn ...|[0.9994085227822389,5.90857...|  0.0|       0.0|\n",
      "|mát đẹp chuẩn gầy gầy trông...|[0.999095363304112,6.842082...|  0.0|       0.0|\n",
      "|đẹp mềm_mại xịn sò ổn ủng_h...|[0.9990298369364647,6.39140...|  0.0|       0.0|\n",
      "+------------------------------+------------------------------+-----+----------+\n",
      "only showing top 10 rows\n",
      "\n"
     ]
    }
   ],
   "source": [
    "lr = LogisticRegression(maxIter=20, regParam=0.3, elasticNetParam=0)\n",
    "lrModel = lr.fit(trainingData)\n",
    "\n",
    "predictions = lrModel.transform(testData)\n",
    "\n",
    "predictions.filter(predictions['prediction'] == 0).select(\"comment_pre\",\"probability\",\"label\",\"prediction\")\\\n",
    ".orderBy(\"probability\", ascending=False).show(n = 10, truncate = 30)"
   ]
  },
  {
   "cell_type": "code",
   "execution_count": 43,
   "id": "c4510268-5e68-4cae-924f-2938fd2da066",
   "metadata": {},
   "outputs": [
    {
     "name": "stdout",
     "output_type": "stream",
     "text": [
      "Time:  0:01:32.910064\n"
     ]
    }
   ],
   "source": [
    "end = datetime.now()\n",
    "time_taken = end - start\n",
    "print('Time: ', time_taken) "
   ]
  },
  {
   "cell_type": "code",
   "execution_count": 44,
   "id": "46754aa7-38ce-4371-9140-78a7a9be7654",
   "metadata": {},
   "outputs": [
    {
     "name": "stdout",
     "output_type": "stream",
     "text": [
      "0.7710234660608233\n"
     ]
    }
   ],
   "source": [
    "from pyspark.ml.evaluation import MulticlassClassificationEvaluator\n",
    "evaluator = MulticlassClassificationEvaluator(predictionCol=\"prediction\")\n",
    "lrAccuracy = evaluator.evaluate(predictions)\n",
    "print(lrAccuracy)"
   ]
  },
  {
   "cell_type": "markdown",
   "id": "50100937-71da-4c42-bb8e-0b1efd382436",
   "metadata": {},
   "source": [
    "- Logistic Regression with oversampled data has accuracy of 77%"
   ]
  },
  {
   "cell_type": "markdown",
   "id": "3e0e57dd-deb4-49c4-8361-b4b53949f84f",
   "metadata": {},
   "source": [
    "### Naive Bayes with oversampled data"
   ]
  },
  {
   "cell_type": "code",
   "execution_count": 45,
   "id": "abf74656-0a91-43e3-a70b-066671ba510e",
   "metadata": {},
   "outputs": [],
   "source": [
    "start = datetime.now()"
   ]
  },
  {
   "cell_type": "code",
   "execution_count": 46,
   "id": "3e847b48-90bd-4453-9431-48d55dc883d2",
   "metadata": {},
   "outputs": [
    {
     "name": "stdout",
     "output_type": "stream",
     "text": [
      "+------------------------------+------------------------------+-----+----------+\n",
      "|                   comment_pre|                   probability|label|prediction|\n",
      "+------------------------------+------------------------------+-----+----------+\n",
      "|ưng thích thích thích thích...|[1.0,1.0569712671654745E-16...|  0.0|       0.0|\n",
      "|lửng ổn thích thích thích t...|[1.0,4.109820975467683E-17,...|  0.0|       0.0|\n",
      "|chất ổn ủng_hộ cười_cười_cư...|[1.0,2.669231097798073E-17,...|  0.0|       0.0|\n",
      "|thích thích thích thích thí...|[1.0,1.772752178508203E-17,...|  0.0|       0.0|\n",
      "|ổn_đáng săn thích thích thí...|[1.0,1.6492714167417618E-17...|  0.0|       0.0|\n",
      "|okokokok thích thích thích ...|[1.0,1.1068827058355335E-17...|  0.0|       0.0|\n",
      "|thích thích thích thích thí...|[1.0,9.896738163256082E-18,...|  0.0|       0.0|\n",
      "|thích thích thích thích thí...|[1.0,9.896738163256082E-18,...|  0.0|       0.0|\n",
      "|thân_thiện không_thích hơi ...|[1.0,5.746620029882585E-18,...|  0.0|       0.0|\n",
      "|tuyệt_vời tuyệt_vời tuyệt_v...|[1.0,4.44210778519965E-18,1...|  0.0|       0.0|\n",
      "+------------------------------+------------------------------+-----+----------+\n",
      "only showing top 10 rows\n",
      "\n"
     ]
    }
   ],
   "source": [
    "nb = NaiveBayes(smoothing=1)\n",
    "nbModel = nb.fit(trainingData)\n",
    "predictions = nbModel.transform(testData)\n",
    "predictions.filter(predictions['prediction'] == 0) \\\n",
    "    .select(\"comment_pre\",\"probability\",\"label\",\"prediction\") \\\n",
    "    .orderBy(\"probability\", ascending=False) \\\n",
    "    .show(n = 10, truncate = 30)"
   ]
  },
  {
   "cell_type": "code",
   "execution_count": 47,
   "id": "7c20b97a-0c75-4810-b19d-03d406832f0f",
   "metadata": {},
   "outputs": [
    {
     "name": "stdout",
     "output_type": "stream",
     "text": [
      "Time:  0:00:53.080708\n"
     ]
    }
   ],
   "source": [
    "end = datetime.now()\n",
    "time_taken = end - start\n",
    "print('Time: ', time_taken) "
   ]
  },
  {
   "cell_type": "code",
   "execution_count": 48,
   "id": "f8b5e492-b801-475a-8b65-2be1c572106e",
   "metadata": {},
   "outputs": [
    {
     "name": "stdout",
     "output_type": "stream",
     "text": [
      "0.7680845818182123\n"
     ]
    }
   ],
   "source": [
    "evaluator = MulticlassClassificationEvaluator(predictionCol=\"prediction\")\n",
    "nbAccuracy = evaluator.evaluate(predictions)\n",
    "print(nbAccuracy)"
   ]
  },
  {
   "cell_type": "markdown",
   "id": "195bea94-c0eb-4f27-916a-33a8bf1fcc19",
   "metadata": {},
   "source": [
    "- Naive Bayes with oversampled data has accuracy of 76%"
   ]
  },
  {
   "cell_type": "markdown",
   "id": "9bc2d335-31c5-4218-b15c-57523d0d2669",
   "metadata": {},
   "source": [
    "### Decision Tree with oversampled data"
   ]
  },
  {
   "cell_type": "code",
   "execution_count": 49,
   "id": "7c0c4a2f-f003-4fc4-b1ff-3704d4dbb0f3",
   "metadata": {},
   "outputs": [],
   "source": [
    "start = datetime.now()"
   ]
  },
  {
   "cell_type": "code",
   "execution_count": 50,
   "id": "202b3b40-bcf1-4bcb-919b-929ed7dd5d31",
   "metadata": {},
   "outputs": [
    {
     "name": "stdout",
     "output_type": "stream",
     "text": [
      "+------------------------------+------------------------------+-----+----------+\n",
      "|                   comment_pre|                   probability|label|prediction|\n",
      "+------------------------------+------------------------------+-----+----------+\n",
      "|                       đẹp tốt|[0.9569180163099344,0.02939...|  0.0|       0.0|\n",
      "|                       đẹp tốt|[0.9569180163099344,0.02939...|  0.0|       0.0|\n",
      "|                       đẹp tốt|[0.9569180163099344,0.02939...|  0.0|       0.0|\n",
      "|  chất_lượng tuyệt_vời đẹp tốt|[0.9569180163099344,0.02939...|  0.0|       0.0|\n",
      "|                       đẹp tốt|[0.9569180163099344,0.02939...|  0.0|       0.0|\n",
      "|                       đẹp tốt|[0.9569180163099344,0.02939...|  0.0|       0.0|\n",
      "|                       đẹp tốt|[0.9569180163099344,0.02939...|  0.0|       0.0|\n",
      "|                       đẹp tốt|[0.9569180163099344,0.02939...|  0.0|       0.0|\n",
      "|chất_lượng tuyệt_vời đẹp đẹ...|[0.9569180163099344,0.02939...|  0.0|       0.0|\n",
      "|                       đẹp tốt|[0.9569180163099344,0.02939...|  0.0|       0.0|\n",
      "+------------------------------+------------------------------+-----+----------+\n",
      "only showing top 10 rows\n",
      "\n"
     ]
    }
   ],
   "source": [
    "dt = DecisionTreeClassifier(featuresCol = 'features', labelCol = 'label', maxDepth = 3)\n",
    "dtModel = dt.fit(trainingData)\n",
    "predictions = dtModel.transform(testData)\n",
    "predictions.filter(predictions['prediction'] == 0) \\\n",
    "    .select(\"comment_pre\",\"probability\",\"label\",\"prediction\") \\\n",
    "    .orderBy(\"probability\", ascending=False) \\\n",
    "    .show(n = 10, truncate = 30)"
   ]
  },
  {
   "cell_type": "code",
   "execution_count": 51,
   "id": "fe168840-8b12-41d4-a4fc-0ab96ce38000",
   "metadata": {},
   "outputs": [
    {
     "name": "stdout",
     "output_type": "stream",
     "text": [
      "Time:  0:10:54.880693\n"
     ]
    }
   ],
   "source": [
    "end = datetime.now()\n",
    "time_taken = end - start\n",
    "print('Time: ', time_taken) "
   ]
  },
  {
   "cell_type": "code",
   "execution_count": 52,
   "id": "c91a0732-ea86-497e-a4cc-8743cfd58e25",
   "metadata": {},
   "outputs": [
    {
     "name": "stdout",
     "output_type": "stream",
     "text": [
      "0.5744736053797374\n"
     ]
    }
   ],
   "source": [
    "evaluator = MulticlassClassificationEvaluator(predictionCol=\"prediction\")\n",
    "dtAccuracy = evaluator.evaluate(predictions)\n",
    "print(dtAccuracy) "
   ]
  },
  {
   "cell_type": "markdown",
   "id": "0b84d15c-eb42-4db8-8843-1f699b87688e",
   "metadata": {},
   "source": [
    "- Decision Tree with oversampled data has accuracy of 57%"
   ]
  },
  {
   "cell_type": "markdown",
   "id": "50d70344-8c1b-4abd-99f1-97e32e10e4b4",
   "metadata": {},
   "source": [
    "### To conclude: \n",
    "- Models with oversampled data have low accuracy (using LDS9's ML). \n",
    "- Naive Bayes with original data has the highest accuracy among LDS9 models but still lower than Decision Tree with oversampled data (89% accuracy) and Logistic Regression with original data (90% accuracy) using LDS6's ML models \n",
    "- We'll choose Decision Tree from LDS6 because Logistic Regression from original data has very low recall and f1-score."
   ]
  },
  {
   "cell_type": "code",
   "execution_count": null,
   "id": "8759af51-fefb-48d4-b37d-2156e0262093",
   "metadata": {},
   "outputs": [],
   "source": []
  }
 ],
 "metadata": {
  "kernelspec": {
   "display_name": "Python 3 (ipykernel)",
   "language": "python",
   "name": "python3"
  },
  "language_info": {
   "codemirror_mode": {
    "name": "ipython",
    "version": 3
   },
   "file_extension": ".py",
   "mimetype": "text/x-python",
   "name": "python",
   "nbconvert_exporter": "python",
   "pygments_lexer": "ipython3",
   "version": "3.8.9"
  }
 },
 "nbformat": 4,
 "nbformat_minor": 5
}
